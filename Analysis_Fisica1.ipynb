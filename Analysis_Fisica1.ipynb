{
 "cells": [
  {
   "cell_type": "code",
   "execution_count": 1,
   "metadata": {},
   "outputs": [],
   "source": [
    "#%matplotlib notebook\n",
    "\n",
    "import numpy as np\n",
    "import matplotlib.pyplot as plt\n",
    "import pandas as pd\n",
    "import seaborn as sns\n",
    "\n",
    "import glob"
   ]
  },
  {
   "cell_type": "code",
   "execution_count": 2,
   "metadata": {},
   "outputs": [],
   "source": [
    "# quitar nan\n",
    "\n",
    "def NanOff(df):\n",
    "    new = pd.DataFrame(df)\n",
    "    new = new.replace(np.nan,'0')\n",
    "    return new"
   ]
  },
  {
   "cell_type": "code",
   "execution_count": 3,
   "metadata": {},
   "outputs": [],
   "source": [
    "DFrameArray = []\n",
    "FileNames = []\n",
    "\n",
    "def OneDataFrame():\n",
    "    \n",
    "    for f in glob.glob('Databases/*.xls'):\n",
    "        df = pd.read_excel(f,sheet_name='hoja1')\n",
    "        df = NanOff(df) # TAKE OUT THE NAN ENTRIES\n",
    "        \n",
    "        DFrameArray.append(df)\n",
    "        FileNames.append(f)\n",
    "        \n",
    "    dft = pd.concat(DFrameArray,ignore_index='True')\n",
    "    \n",
    "    return dft"
   ]
  },
  {
   "cell_type": "code",
   "execution_count": 4,
   "metadata": {},
   "outputs": [],
   "source": [
    "# each element in DFrameArray is a dataframe for each section\n",
    "\n",
    "# dft contains all the information of the group\n",
    "dft = OneDataFrame()"
   ]
  },
  {
   "cell_type": "code",
   "execution_count": 5,
   "metadata": {},
   "outputs": [
    {
     "name": "stdout",
     "output_type": "stream",
     "text": [
      "['Databases/202110_10468_Lista de clase_16.xls', 'Databases/202110_39380_Lista de clase_17.xls', 'Databases/202110_39422_Lista de clase_19.xls', 'Databases/202110_39384_Lista de clase_18.xls']\n"
     ]
    }
   ],
   "source": [
    "print(FileNames)"
   ]
  },
  {
   "cell_type": "code",
   "execution_count": null,
   "metadata": {},
   "outputs": [],
   "source": []
  },
  {
   "cell_type": "code",
   "execution_count": 7,
   "metadata": {},
   "outputs": [
    {
     "name": "stdout",
     "output_type": "stream",
     "text": [
      "0                   ESCOBAR TAMAYO, SOFIA\n",
      "1          GALVIS CORREA, ANDRES FERNANDO\n",
      "2                GOMEZ TOSCANO, ANA MARIA\n",
      "3             IBARRA MUÑOZ, DAVID OCTAVIO\n",
      "4        LEYTON LOPEZ, FERNANDA VALENTINA\n",
      "5             LOPEZ MENDOZA, PEDRO ARTURO\n",
      "6           MORENO SUAREZ, DORIS NATHALIA\n",
      "7            SANCHEZ PAZOS, CAMILO ANDRES\n",
      "8            VANEGAS ESCOBAR, JUAN FELIPE\n",
      "9                 VERA ANAYA, MARIA PAULA\n",
      "10           ZAMORA CORTES, DAVID ERNESTO\n",
      "11             CARDENAS BARRAGAN, NATALIA\n",
      "12             DIAZ CAMACHO, MIGUEL ANGEL\n",
      "13                   FINO VILLAMIL, LAURA\n",
      "14           GALINDO MORENO, PAULA ANDREA\n",
      "15         GUAYARA ROBAYO, SANDRA VIVIANA\n",
      "16             HERNANDEZ PEREZ, ELIZABETH\n",
      "17                 MELO BARRERO, FEDERICO\n",
      "18       PULIDO MARTINEZ, DIEGO ALEJANDRO\n",
      "19        QUINTERO MERIÑO, MICHAEL ALONSO\n",
      "20     RODRIGUEZ CEBALLOS, KIRPAL ANTONIO\n",
      "21             VILLA BENAVIDES, ANA SOFIA\n",
      "22          VILLABONA RODRIGUEZ, JONATHAN\n",
      "23           AGUILAR ARDILA, SARA MARCELA\n",
      "24              ALVAREZ GALINDO, STEFANIA\n",
      "25                    ANGEL GALLON, TOMAS\n",
      "26          BERNAL JIMENEZ, PAULA VIVIANA\n",
      "27        CASTELLANOS BONILLA, JUAN DIEGO\n",
      "28         CORREA GUTIERREZ, JUAN ANTONIO\n",
      "29      DANGOND BARROSPAEZ, JORGE ENRIQUE\n",
      "                     ...                 \n",
      "55           MORENO BERNAL, LAURA DANIELA\n",
      "56          RINCON TRUJILLO, MARIA CAMILA\n",
      "57      SERRANO GALLEGO, SANTIAGO EDUARDO\n",
      "58        SOLANO MOSQUERA, JHON ALEXANDER\n",
      "59                  URIBE QUIROGA, MANUEL\n",
      "60           URREA RODRIGUEZ, JUAN ANDRES\n",
      "61                 VALBUENA GARCIA, MATEO\n",
      "62    VELASQUEZ PALACIOS, MARIA ALEJANDRA\n",
      "63                  VESGA MARIN, GABRIELA\n",
      "64             CASTILLA PAEZ, JUAN FELIPE\n",
      "65        CORREA ARGUELLO, MARIA GABRIELA\n",
      "66                 FERRAND ROJAS, NATALIA\n",
      "67           GOMEZ MENDOZA, JAIRO NICOLAS\n",
      "68    GUEVARA HERNANDEZ, VICTORIA ARGELIA\n",
      "69             LEON ORTIZ, JOAN ALEJANDRO\n",
      "70                MARTINEZ MANTILLA, SARA\n",
      "71         MEDINA DELGADILLO, MARIA PAULA\n",
      "72          MURILLO MARQUEZ, ASLY ROXANNE\n",
      "73                OSORIO CARDENAS, DANIEL\n",
      "74      AGUILAR MARTINEZ, SANTIAGO ANDRES\n",
      "75            CACERES GONZALEZ, VALENTINA\n",
      "76        FLOREZ SANGUINO, JUAN SEBASTIAN\n",
      "77         FUQUEN FLOREZ, DAVID ALEJANDRO\n",
      "78         GARCIA BAUTISTA, JOHAN ESTEBAN\n",
      "79                    GARZON ROJAS, SOFIA\n",
      "80                      MONTERO, SANTIAGO\n",
      "81            NOVOA PARAMO, JULIANA PAOLA\n",
      "82            OSPINA SABOGAL, JUAN ANDRES\n",
      "83            ROMERO TORRES, SERGIO TOMAS\n",
      "84                VALDIRI TERAN, FEDERICO\n",
      "Name: Nombre, Length: 85, dtype: object\n"
     ]
    }
   ],
   "source": [
    "# Uso de filtros por columna\n",
    "#DFrameArray[0].filter(items=['ID','A1','A2'])\n",
    "DFrameArray[0].filter(like='Nota',axis=1)\n",
    "\n",
    "\n",
    "# Seleccion por filar\n",
    "#DFrameArray[2].set_index('A1')\n",
    "\n",
    "#print(DFrameArray[2].loc[0:3])\n",
    "#print(DFrameArray[2].iloc[:,0:2])\n",
    "\n",
    "#print(DFrameArray[0]['Nota1'])\n",
    "print(dft['Nombre'])"
   ]
  },
  {
   "cell_type": "code",
   "execution_count": 34,
   "metadata": {},
   "outputs": [
    {
     "name": "stdout",
     "output_type": "stream",
     "text": [
      "(2.6739130434782608, 0.6000000000000001, 0.4652173913043478, 0.2652173913043478)\n",
      "(3.5047619047619043, 0.6714285714285714, 0.523809523809524, 0.30952380952380953)\n",
      "(3.3649999999999998, 0.6599999999999999, 0.5599999999999999, 0.225)\n",
      "(3.6809523809523808, 0.7666666666666667, 0.5666666666666667, 0.29047619047619044)\n"
     ]
    }
   ],
   "source": [
    "for i in range(0,4):\n",
    "    mean = np.average(DFrameArray[i]['Nota1'])\n",
    "    A1 = np.average(DFrameArray[i]['A1'])\n",
    "    B1 = np.average(DFrameArray[i]['B1'])\n",
    "    C1 = np.average(DFrameArray[i]['C1'])\n",
    "    print(mean, A1, B1, C1)"
   ]
  },
  {
   "cell_type": "code",
   "execution_count": 37,
   "metadata": {},
   "outputs": [
    {
     "data": {
      "image/png": "[encoded data removed]",
      "text/plain": [
       "<Figure size 432x288 with 1 Axes>"
      ]
     },
     "metadata": {
      "needs_background": "light"
     },
     "output_type": "display_data"
    }
   ],
   "source": [
    "plt.hist(dft['C1'], density = True)\n",
    "#plt.hist(DFrameArray[0]['Nota1'], density = True)\n",
    "plt.show()"
   ]
  },
  {
   "cell_type": "code",
   "execution_count": 16,
   "metadata": {},
   "outputs": [
    {
     "name": "stdout",
     "output_type": "stream",
     "text": [
      "                                Nombre         ID  Nota1   A1   B1   C1 D1 E1  \\\n",
      "0                ESCOBAR TAMAYO, SOFIA  202021047    4.5  0.9  0.9  0.9  0  0   \n",
      "1       GALVIS CORREA, ANDRES FERNANDO  201632930    4.0  0.8  0.7  0.5  0  0   \n",
      "2             GOMEZ TOSCANO, ANA MARIA  202021204    2.0  0.6  0.2  0.0  0  0   \n",
      "3          IBARRA MUÑOZ, DAVID OCTAVIO  202014446    3.0  0.6  0.7  0.3  0  0   \n",
      "4     LEYTON LOPEZ, FERNANDA VALENTINA  202111884    2.5  0.6  0.6  0.4  0  0   \n",
      "5          LOPEZ MENDOZA, PEDRO ARTURO  202025042    3.5  0.7  0.6  0.5  0  0   \n",
      "6        MORENO SUAREZ, DORIS NATHALIA  201820035    1.5  0.6  0.0  0.0  0  0   \n",
      "7         SANCHEZ PAZOS, CAMILO ANDRES  202113026    2.5  0.5  0.3  0.5  0  0   \n",
      "8         VANEGAS ESCOBAR, JUAN FELIPE  202113279    2.0  0.3  0.5  0.5  0  0   \n",
      "9              VERA ANAYA, MARIA PAULA  202113340    2.0  0.6  0.3  0.0  0  0   \n",
      "10        ZAMORA CORTES, DAVID ERNESTO  202113407    1.5  0.3  0.3  0.0  0  0   \n",
      "11          CARDENAS BARRAGAN, NATALIA  201423256    1.0  0.3  0.0  0.0  0  0   \n",
      "12          DIAZ CAMACHO, MIGUEL ANGEL  202011965    4.5  0.8  0.8  0.5  0  0   \n",
      "13                FINO VILLAMIL, LAURA  202012077    2.0  0.5  0.4  0.0  0  0   \n",
      "14        GALINDO MORENO, PAULA ANDREA  202012135    2.0  0.5  0.4  0.0  0  0   \n",
      "15      GUAYARA ROBAYO, SANDRA VIVIANA  201819933    4.5  0.7  0.9  0.5  0  0   \n",
      "16          HERNANDEZ PEREZ, ELIZABETH  202012365    2.0  0.6  0.5  0.0  0  0   \n",
      "17              MELO BARRERO, FEDERICO  202021525    5.0  0.9  0.9  1.0  0  0   \n",
      "18    PULIDO MARTINEZ, DIEGO ALEJANDRO  201818133    1.5  0.5  0.0  0.0  0  0   \n",
      "19     QUINTERO MERIÑO, MICHAEL ALONSO  201730224    2.0  0.3  0.5  0.5  0  0   \n",
      "20  RODRIGUEZ CEBALLOS, KIRPAL ANTONIO  202014758    1.5  0.8  0.0  0.0  0  0   \n",
      "21          VILLA BENAVIDES, ANA SOFIA  201923361    3.0  0.8  0.7  0.0  0  0   \n",
      "22       VILLABONA RODRIGUEZ, JONATHAN  201715398    3.5  0.6  0.5  0.0  0  0   \n",
      "\n",
      "   F1 Nota2 A2 B2 C2 D2 E2 F2  NotaFinal  \n",
      "0   0     0  0  0  0  0  0  0        0.9  \n",
      "1   0     0  0  0  0  0  0  0        0.8  \n",
      "2   0     0  0  0  0  0  0  0        0.6  \n",
      "3   0     0  0  0  0  0  0  0        0.6  \n",
      "4   0     0  0  0  0  0  0  0        0.6  \n",
      "5   0     0  0  0  0  0  0  0        0.7  \n",
      "6   0     0  0  0  0  0  0  0        0.6  \n",
      "7   0     0  0  0  0  0  0  0        0.5  \n",
      "8   0     0  0  0  0  0  0  0        0.3  \n",
      "9   0     0  0  0  0  0  0  0        0.6  \n",
      "10  0     0  0  0  0  0  0  0        0.3  \n",
      "11  0     0  0  0  0  0  0  0        0.3  \n",
      "12  0     0  0  0  0  0  0  0        0.8  \n",
      "13  0     0  0  0  0  0  0  0        0.5  \n",
      "14  0     0  0  0  0  0  0  0        0.5  \n",
      "15  0     0  0  0  0  0  0  0        0.7  \n",
      "16  0     0  0  0  0  0  0  0        0.6  \n",
      "17  0     0  0  0  0  0  0  0        0.9  \n",
      "18  0     0  0  0  0  0  0  0        0.5  \n",
      "19  0     0  0  0  0  0  0  0        0.3  \n",
      "20  0     0  0  0  0  0  0  0        0.8  \n",
      "21  0     0  0  0  0  0  0  0        0.8  \n",
      "22  0     0  0  0  0  0  0  0        0.6  \n"
     ]
    }
   ],
   "source": [
    "# Agregar columna\n",
    "\n",
    "Sum = 0\n",
    "\n",
    "for i in range(1,2):\n",
    "    Sum += DFrameArray[0]['A'+str(i)]\n",
    "\n",
    "dtest = DFrameArray[0].assign(NotaFinal=Sum.values)\n",
    "print(dtest)"
   ]
  },
  {
   "cell_type": "code",
   "execution_count": 26,
   "metadata": {},
   "outputs": [
    {
     "name": "stdout",
     "output_type": "stream",
     "text": [
      "202021047\n"
     ]
    }
   ],
   "source": [
    "# Mirar posicion\n",
    "print(dtest.iat[0,1])\n",
    "# Cambiar posicion\n",
    "##dtest.iat[0,1] = 3.\n",
    "#print(dtest)\n",
    "\n",
    "\n",
    "# Agregar columna o fila \n",
    "#dtest.loc['Suma x columna'] = dtest.sum(axis=0)\n",
    "#dtest.loc[:,'Suma x Renglon'] = dtest.sum(axis=1)\n",
    "#print(dtest)"
   ]
  },
  {
   "cell_type": "code",
   "execution_count": 27,
   "metadata": {},
   "outputs": [
    {
     "name": "stdout",
     "output_type": "stream",
     "text": [
      "0     0\n",
      "1     0\n",
      "2     0\n",
      "3     0\n",
      "4     0\n",
      "5     0\n",
      "6     0\n",
      "7     0\n",
      "8     0\n",
      "9     0\n",
      "10    0\n",
      "11    0\n",
      "12    0\n",
      "13    0\n",
      "14    0\n",
      "15    0\n",
      "16    0\n",
      "17    0\n",
      "18    0\n",
      "19    0\n",
      "Name: A1, dtype: object\n"
     ]
    }
   ],
   "source": [
    "#Select the information by columns\n",
    "for i in range(1,2):\n",
    "    print(DFrameArray[2]['A'+str(i)])"
   ]
  },
  {
   "cell_type": "code",
   "execution_count": null,
   "metadata": {},
   "outputs": [],
   "source": []
  },
  {
   "cell_type": "code",
   "execution_count": null,
   "metadata": {},
   "outputs": [],
   "source": [
    "# Vamos a hacer corte\n",
    "\n",
    "print(DFrameArray[2][DFrameArray[2]['A1']<0.7])\n",
    "A1 = DFrameArray[2]['A1']\n",
    "A1 = np.array(A1)\n",
    "print(A1)"
   ]
  },
  {
   "cell_type": "code",
   "execution_count": null,
   "metadata": {},
   "outputs": [],
   "source": [
    "# Plotting pies\n",
    "\n",
    "\n",
    "sizes = DFrameArray[0]['A1'].value_counts()\n",
    "print(sizes)\n",
    "pie = DFrameArray[0]['A1'].value_counts().plot(kind='pie', shadow=True,\\\n",
    "                                              autopct='%1.1f%%', startangle=30,\\\n",
    "                                              radius=1.5,center=(0.5,0.5),\\\n",
    "                                              textprops={'fontsize':12},frame=False,\\\n",
    "                                              pctdistance=0.65)\n",
    "pie.set_ylabel('')\n",
    "pie.set_xlabel('')\n",
    "\n",
    "\n",
    "labels=sizes.index.unique()\n",
    "plt.gca().axis('equal')\n",
    "plt.title(DFrameArray[0].columns[3], weight='bold',size=14)\n",
    "plt.legend(labels, bbox_to_anchor=(0.,1.1))\n",
    "\n",
    "\n",
    "plt.savefig('Figures/A1.pdf',dpi=100,bbox_inches='tight')\n"
   ]
  },
  {
   "cell_type": "code",
   "execution_count": 27,
   "metadata": {},
   "outputs": [
    {
     "data": {
      "image/png": "[encoded data removed]",
      "text/plain": [
       "<Figure size 720x720 with 1 Axes>"
      ]
     },
     "metadata": {
      "needs_background": "light"
     },
     "output_type": "display_data"
    }
   ],
   "source": [
    "# plotting using group by\n",
    "\n",
    "fig = plt.figure(figsize=(10,10))\n",
    "\n",
    "dft.groupby('ID')['Nota1'].sum().plot(kind='bar',legend='Reverse')\n",
    "#DFrameArray[1].groupby('Nota1')['A1'].sum().plot(kind='bar',legend='Reverse')\n",
    "\n",
    "plt.xlabel('ID')\n",
    "plt.ylabel('Competencia')\n",
    "plt.savefig('Figures/A1Bars.pdf',dpi=100,bbox_inches='tight')"
   ]
  },
  {
   "cell_type": "code",
   "execution_count": null,
   "metadata": {},
   "outputs": [],
   "source": [
    "fig = plt.figure()\n",
    "\n",
    "DFrameArray[2].A2.groupby(DFrameArray[2].ID).sum().plot(kind='pie',cmap='viridis')\n",
    "plt.axis('equal')\n",
    "plt.ylabel('')\n",
    "plt.savefig('Figures/A1Pie.pdf',dpi=100,bbox_inches='tight')"
   ]
  },
  {
   "cell_type": "code",
   "execution_count": null,
   "metadata": {},
   "outputs": [],
   "source": [
    "#fig = plt.figure()\n",
    "sns.lmplot(x='ID',y='A1',data=DFrameArray[2],fit_reg=False,hue='ID',legend=False,palette='viridis')\n",
    "#plt.savefig('Figures/A1seaborn.pdf',dpi=100,bbox_inches='tight')"
   ]
  },
  {
   "cell_type": "code",
   "execution_count": null,
   "metadata": {},
   "outputs": [],
   "source": [
    "#sns.set(style='ticks', color_codes=True)\n",
    "#g = sns.pairplot(DFrameArray[2], hue='ID', palette='Spectral')"
   ]
  },
  {
   "cell_type": "code",
   "execution_count": null,
   "metadata": {},
   "outputs": [],
   "source": [
    "print(dft['A2'])"
   ]
  },
  {
   "cell_type": "code",
   "execution_count": null,
   "metadata": {},
   "outputs": [],
   "source": [
    "# Write the whole dataframe in an excel file\n",
    "\n",
    "\n",
    "output = pd.ExcelWriter('DataBaseFisicaI.xls')\n",
    "dft.to_excel(output,'Hoja1')\n",
    "output.save()"
   ]
  },
  {
   "cell_type": "code",
   "execution_count": null,
   "metadata": {},
   "outputs": [],
   "source": []
  }
 ],
 "metadata": {
  "kernelspec": {
   "display_name": "Python 3",
   "language": "python",
   "name": "python3"
  },
  "language_info": {
   "codemirror_mode": {
    "name": "ipython",
    "version": 2
   },
   "file_extension": ".py",
   "mimetype": "text/x-python",
   "name": "python",
   "nbconvert_exporter": "python",
   "pygments_lexer": "ipython2",
   "version": "2.7.16"
  }
 },
 "nbformat": 4,
 "nbformat_minor": 2
}
