{
 "cells": [
  {
   "cell_type": "code",
   "execution_count": 1,
   "metadata": {},
   "outputs": [],
   "source": [
    "#%matplotlib notebook\n",
    "\n",
    "import numpy as np\n",
    "import matplotlib.pyplot as plt\n",
    "import pandas as pd\n",
    "import seaborn as sns\n",
    "\n",
    "import glob"
   ]
  },
  {
   "cell_type": "markdown",
   "metadata": {},
   "source": [
    "# Loading databases"
   ]
  },
  {
   "cell_type": "code",
   "execution_count": 2,
   "metadata": {},
   "outputs": [],
   "source": [
    "# Take out the nan entries\n",
    "\n",
    "def NanOff(df):\n",
    "    new = pd.DataFrame(df)\n",
    "    new = new.replace(np.nan,float('-1'))\n",
    "    return new"
   ]
  },
  {
   "cell_type": "code",
   "execution_count": 3,
   "metadata": {},
   "outputs": [],
   "source": [
    "# Number of entries array\n",
    "Entries = np.array([])\n",
    "EntriesCuts = np.array([])\n",
    "\n",
    "DFrameArray = []\n",
    "DFrameArrayCuts = []\n",
    "\n",
    "FileNames = []\n",
    "\n",
    "def OneDataFrame():\n",
    "    \n",
    "    for f in glob.glob('Databases/*.xls'):\n",
    "        df = pd.read_excel(f,sheet_name='hoja1')\n",
    "        df = NanOff(df) # TAKE OUT THE NAN ENTRIES\n",
    "        \n",
    "        DFrameArray.append(df)\n",
    "        FileNames.append(f)\n",
    "        \n",
    "    dft = pd.concat(DFrameArray,ignore_index='True')\n",
    "    \n",
    "    return dft"
   ]
  },
  {
   "cell_type": "code",
   "execution_count": 4,
   "metadata": {},
   "outputs": [
    {
     "name": "stdout",
     "output_type": "stream",
     "text": [
      "139734336964800\n",
      "139734337466240\n"
     ]
    }
   ],
   "source": [
    "# each element in DFrameArray is a dataframe for each section\n",
    "\n",
    "# The index 4 contains all the information\n",
    "DFrameArray.append(OneDataFrame())\n",
    "DFrameArrayCuts = DFrameArray[:] #  Do slicing properly\n",
    "\n",
    "print(id(DFrameArray))\n",
    "print(id(DFrameArrayCuts))"
   ]
  },
  {
   "cell_type": "code",
   "execution_count": 5,
   "metadata": {},
   "outputs": [
    {
     "name": "stdout",
     "output_type": "stream",
     "text": [
      "Databases/202110_10468_Lista de clase_16.xls\n",
      "Databases/202110_39380_Lista de clase_17.xls\n",
      "Databases/202110_39422_Lista de clase_19.xls\n",
      "Databases/202110_39384_Lista de clase_18.xls\n",
      "[23. 21. 20. 21. 85.]\n"
     ]
    }
   ],
   "source": [
    "Entries = np.array([])\n",
    "\n",
    "for i in range(len(FileNames)+1):\n",
    "    Entries = np.append(Entries, DFrameArray[i]['ID'].count())\n",
    "    if i != 4:\n",
    "        print(FileNames[i])\n",
    "# Total entries in each group\n",
    "print(Entries)"
   ]
  },
  {
   "cell_type": "code",
   "execution_count": 6,
   "metadata": {},
   "outputs": [
    {
     "data": {
      "text/html": [
       "<div>\n",
       "<style scoped>\n",
       "    .dataframe tbody tr th:only-of-type {\n",
       "        vertical-align: middle;\n",
       "    }\n",
       "\n",
       "    .dataframe tbody tr th {\n",
       "        vertical-align: top;\n",
       "    }\n",
       "\n",
       "    .dataframe thead th {\n",
       "        text-align: right;\n",
       "    }\n",
       "</style>\n",
       "<table border=\"1\" class=\"dataframe\">\n",
       "  <thead>\n",
       "    <tr style=\"text-align: right;\">\n",
       "      <th></th>\n",
       "      <th>ID</th>\n",
       "      <th>Nota1</th>\n",
       "      <th>A1</th>\n",
       "      <th>B1</th>\n",
       "      <th>C1</th>\n",
       "      <th>D1</th>\n",
       "      <th>E1</th>\n",
       "      <th>F1</th>\n",
       "      <th>Nota2</th>\n",
       "      <th>A2</th>\n",
       "      <th>B2</th>\n",
       "      <th>C2</th>\n",
       "      <th>D2</th>\n",
       "      <th>E2</th>\n",
       "      <th>F2</th>\n",
       "    </tr>\n",
       "  </thead>\n",
       "  <tbody>\n",
       "    <tr>\n",
       "      <th>count</th>\n",
       "      <td>8.500000e+01</td>\n",
       "      <td>85.000000</td>\n",
       "      <td>85.000000</td>\n",
       "      <td>85.000000</td>\n",
       "      <td>85.000000</td>\n",
       "      <td>85.0</td>\n",
       "      <td>85.0</td>\n",
       "      <td>85.0</td>\n",
       "      <td>85.0</td>\n",
       "      <td>85.0</td>\n",
       "      <td>85.0</td>\n",
       "      <td>85.0</td>\n",
       "      <td>85.0</td>\n",
       "      <td>85.0</td>\n",
       "      <td>85.0</td>\n",
       "    </tr>\n",
       "    <tr>\n",
       "      <th>mean</th>\n",
       "      <td>2.019522e+08</td>\n",
       "      <td>3.290588</td>\n",
       "      <td>0.672941</td>\n",
       "      <td>0.527059</td>\n",
       "      <td>0.272941</td>\n",
       "      <td>-1.0</td>\n",
       "      <td>-1.0</td>\n",
       "      <td>-1.0</td>\n",
       "      <td>-1.0</td>\n",
       "      <td>-1.0</td>\n",
       "      <td>-1.0</td>\n",
       "      <td>-1.0</td>\n",
       "      <td>-1.0</td>\n",
       "      <td>-1.0</td>\n",
       "      <td>-1.0</td>\n",
       "    </tr>\n",
       "    <tr>\n",
       "      <th>std</th>\n",
       "      <td>1.343301e+05</td>\n",
       "      <td>1.107617</td>\n",
       "      <td>0.180863</td>\n",
       "      <td>0.218974</td>\n",
       "      <td>0.308371</td>\n",
       "      <td>0.0</td>\n",
       "      <td>0.0</td>\n",
       "      <td>0.0</td>\n",
       "      <td>0.0</td>\n",
       "      <td>0.0</td>\n",
       "      <td>0.0</td>\n",
       "      <td>0.0</td>\n",
       "      <td>0.0</td>\n",
       "      <td>0.0</td>\n",
       "      <td>0.0</td>\n",
       "    </tr>\n",
       "    <tr>\n",
       "      <th>min</th>\n",
       "      <td>2.014233e+08</td>\n",
       "      <td>0.000000</td>\n",
       "      <td>0.000000</td>\n",
       "      <td>0.000000</td>\n",
       "      <td>0.000000</td>\n",
       "      <td>-1.0</td>\n",
       "      <td>-1.0</td>\n",
       "      <td>-1.0</td>\n",
       "      <td>-1.0</td>\n",
       "      <td>-1.0</td>\n",
       "      <td>-1.0</td>\n",
       "      <td>-1.0</td>\n",
       "      <td>-1.0</td>\n",
       "      <td>-1.0</td>\n",
       "      <td>-1.0</td>\n",
       "    </tr>\n",
       "    <tr>\n",
       "      <th>25%</th>\n",
       "      <td>2.019209e+08</td>\n",
       "      <td>2.500000</td>\n",
       "      <td>0.600000</td>\n",
       "      <td>0.500000</td>\n",
       "      <td>0.000000</td>\n",
       "      <td>-1.0</td>\n",
       "      <td>-1.0</td>\n",
       "      <td>-1.0</td>\n",
       "      <td>-1.0</td>\n",
       "      <td>-1.0</td>\n",
       "      <td>-1.0</td>\n",
       "      <td>-1.0</td>\n",
       "      <td>-1.0</td>\n",
       "      <td>-1.0</td>\n",
       "      <td>-1.0</td>\n",
       "    </tr>\n",
       "    <tr>\n",
       "      <th>50%</th>\n",
       "      <td>2.020131e+08</td>\n",
       "      <td>3.500000</td>\n",
       "      <td>0.700000</td>\n",
       "      <td>0.500000</td>\n",
       "      <td>0.000000</td>\n",
       "      <td>-1.0</td>\n",
       "      <td>-1.0</td>\n",
       "      <td>-1.0</td>\n",
       "      <td>-1.0</td>\n",
       "      <td>-1.0</td>\n",
       "      <td>-1.0</td>\n",
       "      <td>-1.0</td>\n",
       "      <td>-1.0</td>\n",
       "      <td>-1.0</td>\n",
       "      <td>-1.0</td>\n",
       "    </tr>\n",
       "    <tr>\n",
       "      <th>75%</th>\n",
       "      <td>2.020211e+08</td>\n",
       "      <td>4.000000</td>\n",
       "      <td>0.800000</td>\n",
       "      <td>0.600000</td>\n",
       "      <td>0.500000</td>\n",
       "      <td>-1.0</td>\n",
       "      <td>-1.0</td>\n",
       "      <td>-1.0</td>\n",
       "      <td>-1.0</td>\n",
       "      <td>-1.0</td>\n",
       "      <td>-1.0</td>\n",
       "      <td>-1.0</td>\n",
       "      <td>-1.0</td>\n",
       "      <td>-1.0</td>\n",
       "      <td>-1.0</td>\n",
       "    </tr>\n",
       "    <tr>\n",
       "      <th>max</th>\n",
       "      <td>2.021134e+08</td>\n",
       "      <td>5.000000</td>\n",
       "      <td>1.000000</td>\n",
       "      <td>1.000000</td>\n",
       "      <td>1.000000</td>\n",
       "      <td>-1.0</td>\n",
       "      <td>-1.0</td>\n",
       "      <td>-1.0</td>\n",
       "      <td>-1.0</td>\n",
       "      <td>-1.0</td>\n",
       "      <td>-1.0</td>\n",
       "      <td>-1.0</td>\n",
       "      <td>-1.0</td>\n",
       "      <td>-1.0</td>\n",
       "      <td>-1.0</td>\n",
       "    </tr>\n",
       "  </tbody>\n",
       "</table>\n",
       "</div>"
      ],
      "text/plain": [
       "                 ID      Nota1         A1         B1         C1    D1    E1  \\\n",
       "count  8.500000e+01  85.000000  85.000000  85.000000  85.000000  85.0  85.0   \n",
       "mean   2.019522e+08   3.290588   0.672941   0.527059   0.272941  -1.0  -1.0   \n",
       "std    1.343301e+05   1.107617   0.180863   0.218974   0.308371   0.0   0.0   \n",
       "min    2.014233e+08   0.000000   0.000000   0.000000   0.000000  -1.0  -1.0   \n",
       "25%    2.019209e+08   2.500000   0.600000   0.500000   0.000000  -1.0  -1.0   \n",
       "50%    2.020131e+08   3.500000   0.700000   0.500000   0.000000  -1.0  -1.0   \n",
       "75%    2.020211e+08   4.000000   0.800000   0.600000   0.500000  -1.0  -1.0   \n",
       "max    2.021134e+08   5.000000   1.000000   1.000000   1.000000  -1.0  -1.0   \n",
       "\n",
       "         F1  Nota2    A2    B2    C2    D2    E2    F2  \n",
       "count  85.0   85.0  85.0  85.0  85.0  85.0  85.0  85.0  \n",
       "mean   -1.0   -1.0  -1.0  -1.0  -1.0  -1.0  -1.0  -1.0  \n",
       "std     0.0    0.0   0.0   0.0   0.0   0.0   0.0   0.0  \n",
       "min    -1.0   -1.0  -1.0  -1.0  -1.0  -1.0  -1.0  -1.0  \n",
       "25%    -1.0   -1.0  -1.0  -1.0  -1.0  -1.0  -1.0  -1.0  \n",
       "50%    -1.0   -1.0  -1.0  -1.0  -1.0  -1.0  -1.0  -1.0  \n",
       "75%    -1.0   -1.0  -1.0  -1.0  -1.0  -1.0  -1.0  -1.0  \n",
       "max    -1.0   -1.0  -1.0  -1.0  -1.0  -1.0  -1.0  -1.0  "
      ]
     },
     "execution_count": 6,
     "metadata": {},
     "output_type": "execute_result"
    }
   ],
   "source": [
    "DFrameArray[4].describe()"
   ]
  },
  {
   "cell_type": "markdown",
   "metadata": {},
   "source": [
    "# Descriptive Statistics"
   ]
  },
  {
   "cell_type": "code",
   "execution_count": 7,
   "metadata": {},
   "outputs": [
    {
     "name": "stdout",
     "output_type": "stream",
     "text": [
      "Calculating for: Nota1\n",
      "Calculating for: A1\n",
      "Calculating for: B1\n",
      "Calculating for: C1\n"
     ]
    }
   ],
   "source": [
    "Names = ['Nota','A','B','C']\n",
    "\n",
    "NNotas = 1\n",
    "\n",
    "DictMean = {}\n",
    "DictStd = {}\n",
    "\n",
    "for i in Names:  # Cathegories\n",
    "    \n",
    "    for j in range(1,NNotas+1): # Grades\n",
    "        \n",
    "        Name_ = i + str(j)\n",
    "        \n",
    "        print('Calculating for: '+Name_)\n",
    "\n",
    "        Mean = np.array([])\n",
    "        Std = np.array([])\n",
    "\n",
    "\n",
    "        for k in range(len(FileNames)+1):\n",
    "            Mean = np.append(Mean,np.average(DFrameArray[k][Name_]))\n",
    "            Std = np.append(Std,np.std(DFrameArray[k][Name_]))\n",
    "        \n",
    "        DictMean[Name_] = Mean\n",
    "        DictStd[Name_] = Std"
   ]
  },
  {
   "cell_type": "code",
   "execution_count": 8,
   "metadata": {},
   "outputs": [
    {
     "name": "stdout",
     "output_type": "stream",
     "text": [
      "A1:\n",
      "[0.6        0.67142857 0.66       0.76666667 0.67294118]\n",
      "[0.18177865 0.18553105 0.19595918 0.0942809  0.17979612]\n",
      "C1:\n",
      "[0.26521739 0.30952381 0.225      0.29047619 0.27294118]\n",
      "[0.30872627 0.31305676 0.3284433  0.2670915  0.3065513 ]\n",
      "Nota1:\n",
      "[2.67391304 3.5047619  3.365      3.68095238 3.29058824]\n",
      "[1.14785902 1.00828765 1.23502024 0.6122706  1.1010822 ]\n",
      "B1:\n",
      "[0.46521739 0.52380952 0.56       0.56666667 0.52705882]\n",
      "[0.2883366  0.14769583 0.23537205 0.13915847 0.21768203]\n"
     ]
    }
   ],
   "source": [
    "# Print Dictionaries\n",
    "\n",
    "for i in DictMean.keys():\n",
    "    print(i+':')\n",
    "    print(DictMean[i])\n",
    "    print(DictStd[i])"
   ]
  },
  {
   "cell_type": "markdown",
   "metadata": {},
   "source": [
    "# Cuts"
   ]
  },
  {
   "cell_type": "code",
   "execution_count": 26,
   "metadata": {},
   "outputs": [],
   "source": [
    "def GetCuts(Cuts_):\n",
    "    \n",
    "    EntriesCuts = np.array([])\n",
    "    \n",
    "    Keys = Cuts_.keys()\n",
    "    Values = Cuts_.values()\n",
    "    \n",
    "    for i in range(len(FileNames)+1):\n",
    "    \n",
    "        # Set of cuts\n",
    "        Cut0 = DFrameArray[i][Keys[0]] >= Values[0]\n",
    "        Cut1 = DFrameArray[i][Keys[1]] >= Values[1]\n",
    "        Cut2 = DFrameArray[i][Keys[2]] >= Values[2]\n",
    "        Cut3 = DFrameArray[i][Keys[3]] >= Values[3]\n",
    "    \n",
    "        DFrameArrayCuts[i] = DFrameArray[i][(Cut0) & (Cut1) & (Cut2) & (Cut3)]    \n",
    "        # Get the new number of entries\n",
    "        EntriesCuts = np.append(EntriesCuts, DFrameArrayCuts[i]['ID'].count())\n",
    "\n",
    "\n",
    "    # Array of efficiencies\n",
    "    Efficiencies = EntriesCuts/Entries\n",
    "\n",
    "    #Testing \n",
    "    #print(EntriesCuts, Entries)\n",
    "        \n",
    "    return Efficiencies"
   ]
  },
  {
   "cell_type": "code",
   "execution_count": 27,
   "metadata": {},
   "outputs": [
    {
     "name": "stdout",
     "output_type": "stream",
     "text": [
      "[0.39130435 0.85714286 0.75       0.85714286 0.70588235]\n"
     ]
    }
   ],
   "source": [
    "Cuts = {'Nota1':3.0, 'A1':0.5, 'B1': 0.5, 'C1':0.}\n",
    "Efficiencies = GetCuts(Cuts)\n",
    "print(Efficiencies)\n",
    "\n",
    "# Closure Test\n",
    "#for i in range(len(FileNames)+1):\n",
    "#    print(DFrameArrayCuts[i]['ID'].count())\n",
    "\n",
    "#print(Entries)"
   ]
  },
  {
   "cell_type": "code",
   "execution_count": null,
   "metadata": {},
   "outputs": [],
   "source": []
  },
  {
   "cell_type": "code",
   "execution_count": null,
   "metadata": {},
   "outputs": [],
   "source": []
  },
  {
   "cell_type": "markdown",
   "metadata": {},
   "source": [
    "# Plotting"
   ]
  },
  {
   "cell_type": "code",
   "execution_count": 28,
   "metadata": {},
   "outputs": [],
   "source": [
    "def CreateGroupFig(Input,Cuts,grupo,variable):\n",
    "    \n",
    "    \n",
    "    if Cuts:\n",
    "        print('-- Calculating with Cuts ---', variable)\n",
    "    else:\n",
    "        print('-- Calculating ---', variable)\n",
    "    \n",
    "    DFrame = Input[:]\n",
    "    \n",
    "    fig = plt.figure(figsize=(10,10))\n",
    "\n",
    "    ax1 = fig.add_subplot(2,2,1)\n",
    "    if len(DFrame[0].index) != 0:\n",
    "        ax1 = DFrame[0].groupby(grupo)[variable].sum().plot(kind='bar', fontsize=5)\n",
    "    #ax1.set_xlabel(grupo, fontsize=12)\n",
    "    ax1.set_ylabel(variable, fontsize=12)\n",
    "\n",
    "    ax2 = fig.add_subplot(2,2,2)\n",
    "    if len(DFrame[1].index) != 0:\n",
    "        ax2 = DFrame[1].groupby(grupo)[variable].sum().plot(kind='bar', fontsize=5)\n",
    "    #ax2.set_xlabel(grupo, fontsize=12)\n",
    "    #ax2.set_ylabel(variable, fontsize=12)\n",
    "\n",
    "    ax3 = fig.add_subplot(2,2,3)\n",
    "    if len(DFrame[2].index) != 0:\n",
    "        ax3 = DFrame[2].groupby(grupo)[variable].sum().plot(kind='bar', fontsize=5)\n",
    "    ax3.set_xlabel(grupo, fontsize=7)\n",
    "    ax3.set_ylabel(variable, fontsize=12)\n",
    "\n",
    "    ax4 = fig.add_subplot(2,2,4)\n",
    "    if len(DFrame[3].index) != 0:\n",
    "        ax4 = DFrame[3].groupby(grupo)[variable].sum().plot(kind='bar', fontsize=5)\n",
    "    ax4.set_xlabel(grupo, fontsize=7)\n",
    "    #ax4.set_ylabel(variable, fontsize=12)\n",
    "\n",
    "    Name = 'Figures/' + grupo + '_' + variable + '.pdf'\n",
    "    if Cuts:\n",
    "        Name = 'Figures/' + grupo + '_' + variable + '_Cuts.pdf'\n",
    "        \n",
    "    plt.savefig(Name,dpi=100,bbox_inches='tight')\n",
    "    plt.close()\n",
    "\n",
    "    fig = plt.figure(figsize=(10,10))\n",
    "    ax1 = fig.add_subplot(1,1,1)\n",
    "    if len(DFrame[4].index) != 0:\n",
    "        ax1 = DFrame[4].groupby(grupo)[variable].sum().plot(kind='bar', fontsize=5)\n",
    "    ax1.set_xlabel(grupo, fontsize=7)\n",
    "    ax1.set_ylabel(variable, fontsize=12)\n",
    "    \n",
    "    NameT = 'Figures/' + grupo + '_' + variable + '_T.pdf'\n",
    "    if Cuts:\n",
    "        NameT = 'Figures/' + grupo + '_' + variable + '_T_Cuts.pdf'\n",
    "    \n",
    "    plt.savefig(NameT,dpi=100,bbox_inches='tight')\n",
    "    plt.close()"
   ]
  },
  {
   "cell_type": "code",
   "execution_count": 29,
   "metadata": {},
   "outputs": [
    {
     "name": "stdout",
     "output_type": "stream",
     "text": [
      "('-- Calculating ---', 'Nota1')\n",
      "('-- Calculating with Cuts ---', 'Nota1')\n",
      "('-- Calculating ---', 'A1')\n",
      "('-- Calculating with Cuts ---', 'A1')\n",
      "('-- Calculating ---', 'B1')\n",
      "('-- Calculating with Cuts ---', 'B1')\n",
      "('-- Calculating ---', 'C1')\n",
      "('-- Calculating with Cuts ---', 'C1')\n"
     ]
    }
   ],
   "source": [
    "# Plotting using group by\n",
    "\n",
    "grupo = 'ID'  # Variable que agrupa\n",
    "\n",
    "for i in Names:  # Cathegories\n",
    "    \n",
    "    for j in range(1,NNotas+1): # Grades\n",
    "        \n",
    "        Name_ = i + str(j)\n",
    "        \n",
    "        CreateGroupFig(DFrameArray, False, grupo, Name_)\n",
    "        CreateGroupFig(DFrameArrayCuts, True, grupo, Name_)"
   ]
  },
  {
   "cell_type": "code",
   "execution_count": null,
   "metadata": {},
   "outputs": [],
   "source": [
    "# Uso de filtros por columna\n",
    "#DFrameArray[0].filter(items=['ID','A1','A2'])\n",
    "#DFrameArray[1].filter(like='A',axis=1)\n",
    "\n",
    "\n",
    "# Seleccion por filar\n",
    "#DFrameArray[2].set_index('A1')\n",
    "\n",
    "#print(DFrameArray[2].loc[0:3])\n",
    "#print(DFrameArray[2].iloc[:,0:2])\n",
    "\n",
    "#print(DFrameArray[0]['Nota1'])\n",
    "#print(dft['A1'])"
   ]
  },
  {
   "cell_type": "code",
   "execution_count": null,
   "metadata": {},
   "outputs": [],
   "source": []
  },
  {
   "cell_type": "code",
   "execution_count": null,
   "metadata": {},
   "outputs": [],
   "source": [
    "plt.hist(dft['B1'])\n",
    "#plt.hist(DFrameArray[0]['Nota1'], density = True)\n",
    "plt.show()"
   ]
  },
  {
   "cell_type": "code",
   "execution_count": null,
   "metadata": {},
   "outputs": [],
   "source": [
    "# Agregar columna\n",
    "\n",
    "Sum = 0\n",
    "\n",
    "for i in range(1,2):\n",
    "    Sum += DFrameArray[0]['A'+str(i)]\n",
    "\n",
    "dtest = DFrameArray[0].assign(NotaFinal=Sum.values)\n",
    "print(dtest)"
   ]
  },
  {
   "cell_type": "code",
   "execution_count": null,
   "metadata": {},
   "outputs": [],
   "source": [
    "# Mirar posicion\n",
    "print(dtest.iat[0,1])\n",
    "# Cambiar posicion\n",
    "##dtest.iat[0,1] = 3.\n",
    "#print(dtest)\n",
    "\n",
    "\n",
    "# Agregar columna o fila \n",
    "#dtest.loc['Suma x columna'] = dtest.sum(axis=0)\n",
    "#dtest.loc[:,'Suma x Renglon'] = dtest.sum(axis=1)\n",
    "#print(dtest)"
   ]
  },
  {
   "cell_type": "code",
   "execution_count": null,
   "metadata": {},
   "outputs": [],
   "source": [
    "#Select the information by columns\n",
    "for i in range(1,2):\n",
    "    print(DFrameArray[2]['A'+str(i)])"
   ]
  },
  {
   "cell_type": "code",
   "execution_count": null,
   "metadata": {},
   "outputs": [],
   "source": []
  },
  {
   "cell_type": "code",
   "execution_count": null,
   "metadata": {},
   "outputs": [],
   "source": [
    "# Vamos a hacer corte\n",
    "\n",
    "print(DFrameArray[2][DFrameArray[2]['A1']<0.7])\n",
    "A1 = DFrameArray[2]['A1']\n",
    "A1 = np.array(A1)\n",
    "print(A1)"
   ]
  },
  {
   "cell_type": "code",
   "execution_count": null,
   "metadata": {},
   "outputs": [],
   "source": [
    "# Plotting pies\n",
    "\n",
    "\n",
    "sizes = DFrameArray[0]['A1'].value_counts()\n",
    "print(sizes)\n",
    "pie = DFrameArray[0]['A1'].value_counts().plot(kind='pie', shadow=True,\\\n",
    "                                              autopct='%1.1f%%', startangle=30,\\\n",
    "                                              radius=1.5,center=(0.5,0.5),\\\n",
    "                                              textprops={'fontsize':12},frame=False,\\\n",
    "                                              pctdistance=0.65)\n",
    "pie.set_ylabel('')\n",
    "pie.set_xlabel('')\n",
    "\n",
    "\n",
    "labels=sizes.index.unique()\n",
    "plt.gca().axis('equal')\n",
    "plt.title(DFrameArray[0].columns[3], weight='bold',size=14)\n",
    "plt.legend(labels, bbox_to_anchor=(0.,1.1))\n",
    "\n",
    "\n",
    "plt.savefig('Figures/A1.pdf',dpi=100,bbox_inches='tight')\n"
   ]
  },
  {
   "cell_type": "code",
   "execution_count": null,
   "metadata": {},
   "outputs": [],
   "source": [
    "# plotting using group by\n",
    "\n",
    "fig = plt.figure(figsize=(10,10))\n",
    "\n",
    "dft.groupby('Nota1')['A1'].sum().plot(kind='bar',legend='Reverse')\n",
    "#DFrameArray[1].groupby('Nota1')['A1'].sum().plot(kind='bar',legend='Reverse')\n",
    "\n",
    "plt.xlabel('ID')\n",
    "plt.ylabel('Competencia')\n",
    "plt.savefig('Figures/A1Bars.pdf',dpi=100,bbox_inches='tight')"
   ]
  },
  {
   "cell_type": "code",
   "execution_count": null,
   "metadata": {},
   "outputs": [],
   "source": [
    "fig = plt.figure()\n",
    "\n",
    "DFrameArray[2].A2.groupby(DFrameArray[2].ID).sum().plot(kind='pie',cmap='viridis')\n",
    "plt.axis('equal')\n",
    "plt.ylabel('')\n",
    "plt.savefig('Figures/A1Pie.pdf',dpi=100,bbox_inches='tight')"
   ]
  },
  {
   "cell_type": "code",
   "execution_count": null,
   "metadata": {},
   "outputs": [],
   "source": [
    "#fig = plt.figure()\n",
    "sns.lmplot(x='ID',y='A1',data=DFrameArray[2],fit_reg=False,hue='ID',legend=False,palette='viridis')\n",
    "#plt.savefig('Figures/A1seaborn.pdf',dpi=100,bbox_inches='tight')"
   ]
  },
  {
   "cell_type": "code",
   "execution_count": null,
   "metadata": {},
   "outputs": [],
   "source": [
    "#sns.set(style='ticks', color_codes=True)\n",
    "#g = sns.pairplot(DFrameArray[2], hue='ID', palette='Spectral')"
   ]
  },
  {
   "cell_type": "code",
   "execution_count": null,
   "metadata": {},
   "outputs": [],
   "source": [
    "print(dft['A2'])"
   ]
  },
  {
   "cell_type": "code",
   "execution_count": null,
   "metadata": {},
   "outputs": [],
   "source": [
    "# Write the whole dataframe in an excel file\n",
    "\n",
    "\n",
    "output = pd.ExcelWriter('DataBaseFisicaI.xls')\n",
    "dft.to_excel(output,'Hoja1')\n",
    "output.save()"
   ]
  },
  {
   "cell_type": "code",
   "execution_count": null,
   "metadata": {},
   "outputs": [],
   "source": []
  }
 ],
 "metadata": {
  "kernelspec": {
   "display_name": "Python 3",
   "language": "python",
   "name": "python3"
  },
  "language_info": {
   "codemirror_mode": {
    "name": "ipython",
    "version": 2
   },
   "file_extension": ".py",
   "mimetype": "text/x-python",
   "name": "python",
   "nbconvert_exporter": "python",
   "pygments_lexer": "ipython2",
   "version": "2.7.16"
  }
 },
 "nbformat": 4,
 "nbformat_minor": 2
}
