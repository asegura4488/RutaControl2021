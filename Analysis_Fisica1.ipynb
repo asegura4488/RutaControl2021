{
 "cells": [
  {
   "cell_type": "code",
   "execution_count": 17,
   "metadata": {},
   "outputs": [],
   "source": [
    "%matplotlib notebook\n",
    "\n",
    "import numpy as np\n",
    "import matplotlib.pyplot as plt\n",
    "import pandas as pd\n"
   ]
  },
  {
   "cell_type": "code",
   "execution_count": 21,
   "metadata": {},
   "outputs": [],
   "source": [
    "df1 = pd.read_excel('Databases/202110_10468_Lista de clase.xls', sheet_name='hoja1')\n",
    "df2 = pd.read_excel('Databases/202110_39380_Lista de clase.xls', sheet_name='hoja1')\n",
    "df3 = pd.read_excel('Databases/202110_39384_Lista de clase.xls', sheet_name='hoja1')\n",
    "df4 = pd.read_excel('Databases/202110_39422_Lista de clase.xls', sheet_name='hoja1')"
   ]
  },
  {
   "cell_type": "code",
   "execution_count": 26,
   "metadata": {},
   "outputs": [
    {
     "name": "stdout",
     "output_type": "stream",
     "text": [
      "0     202020571\n",
      "1     202011469\n",
      "2     201912041\n",
      "3     201632596\n",
      "4     202015089\n",
      "5     201633173\n",
      "6     202021087\n",
      "7     201920915\n",
      "8     202021371\n",
      "9     202015183\n",
      "10    202021552\n",
      "11    202021602\n",
      "12    202013329\n",
      "13    202013634\n",
      "14    202013661\n",
      "15    201923292\n",
      "16    201820242\n",
      "17    201923298\n",
      "18    202011000\n",
      "19    202022351\n",
      "Name: ID, dtype: int64\n"
     ]
    }
   ],
   "source": [
    "print(df4['ID'])"
   ]
  },
  {
   "cell_type": "code",
   "execution_count": null,
   "metadata": {},
   "outputs": [],
   "source": []
  }
 ],
 "metadata": {
  "kernelspec": {
   "display_name": "Python 3",
   "language": "python",
   "name": "python3"
  },
  "language_info": {
   "codemirror_mode": {
    "name": "ipython",
    "version": 2
   },
   "file_extension": ".py",
   "mimetype": "text/x-python",
   "name": "python",
   "nbconvert_exporter": "python",
   "pygments_lexer": "ipython2",
   "version": "2.7.16"
  }
 },
 "nbformat": 4,
 "nbformat_minor": 2
}
