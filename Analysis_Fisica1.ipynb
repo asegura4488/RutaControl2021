{
 "cells": [
  {
   "cell_type": "code",
   "execution_count": 1,
   "metadata": {},
   "outputs": [],
   "source": [
    "%matplotlib notebook\n",
    "\n",
    "import numpy as np\n",
    "import matplotlib.pyplot as plt\n",
    "import pandas as pd\n"
   ]
  },
  {
   "cell_type": "code",
   "execution_count": 2,
   "metadata": {},
   "outputs": [],
   "source": [
    "# quitar nan\n",
    "\n",
    "def Nan(df):\n",
    "    new = pd.DataFrame(df)\n",
    "    new = new.replace(np.nan,'0')\n",
    "    return new"
   ]
  },
  {
   "cell_type": "code",
   "execution_count": 3,
   "metadata": {},
   "outputs": [],
   "source": [
    "df1 = pd.read_excel('Databases/202110_10468_Lista de clase.xls', sheet_name='hoja1')\n",
    "df2 = pd.read_excel('Databases/202110_39380_Lista de clase.xls', sheet_name='hoja1')\n",
    "df3 = pd.read_excel('Databases/202110_39384_Lista de clase.xls', sheet_name='hoja1')\n",
    "df4 = pd.read_excel('Databases/202110_39422_Lista de clase.xls', sheet_name='hoja1')\n",
    "\n",
    "df1 = Nan(df1)\n",
    "df2 = Nan(df2)\n",
    "df3 = Nan(df3)\n",
    "df4 = Nan(df4)"
   ]
  },
  {
   "cell_type": "code",
   "execution_count": null,
   "metadata": {},
   "outputs": [],
   "source": []
  },
  {
   "cell_type": "code",
   "execution_count": 5,
   "metadata": {},
   "outputs": [
    {
     "name": "stdout",
     "output_type": "stream",
     "text": [
      "0             CASTILLA PAEZ, JUAN FELIPE\n",
      "1        CORREA ARGUELLO, MARIA GABRIELA\n",
      "2                 FERRAND ROJAS, NATALIA\n",
      "3           GOMEZ MENDOZA, JAIRO NICOLAS\n",
      "4    GUEVARA HERNANDEZ, VICTORIA ARGELIA\n",
      "5             LEON ORTIZ, JOAN ALEJANDRO\n",
      "6                MARTINEZ MANTILLA, SARA\n",
      "7         MEDINA DELGADILLO, MARIA PAULA\n",
      "8          MURILLO MARQUEZ, ASLY ROXANNE\n",
      "9                OSORIO CARDENAS, DANIEL\n",
      "Name: Nombre, dtype: object\n"
     ]
    }
   ],
   "source": [
    "print(df3['Nombre'])"
   ]
  },
  {
   "cell_type": "code",
   "execution_count": null,
   "metadata": {},
   "outputs": [],
   "source": []
  }
 ],
 "metadata": {
  "kernelspec": {
   "display_name": "Python 3",
   "language": "python",
   "name": "python3"
  },
  "language_info": {
   "codemirror_mode": {
    "name": "ipython",
    "version": 2
   },
   "file_extension": ".py",
   "mimetype": "text/x-python",
   "name": "python",
   "nbconvert_exporter": "python",
   "pygments_lexer": "ipython2",
   "version": "2.7.16"
  }
 },
 "nbformat": 4,
 "nbformat_minor": 2
}
