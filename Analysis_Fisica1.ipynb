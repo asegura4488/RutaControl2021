{
 "cells": [
  {
   "cell_type": "code",
   "execution_count": 2,
   "metadata": {},
   "outputs": [],
   "source": [
    "#%matplotlib notebook\n",
    "\n",
    "import numpy as np\n",
    "import matplotlib.pyplot as plt\n",
    "import pandas as pd\n",
    "import seaborn as sns\n",
    "\n",
    "import glob"
   ]
  },
  {
   "cell_type": "markdown",
   "metadata": {},
   "source": [
    "# Loading databases"
   ]
  },
  {
   "cell_type": "code",
   "execution_count": 8,
   "metadata": {},
   "outputs": [],
   "source": [
    "# Take out the nan entries\n",
    "\n",
    "def NanOff(df):\n",
    "    new = pd.DataFrame(df)\n",
    "    new = new.replace(np.nan,float('-1'))\n",
    "    return new"
   ]
  },
  {
   "cell_type": "code",
   "execution_count": 9,
   "metadata": {},
   "outputs": [],
   "source": [
    "# Number of entries array\n",
    "Entries = np.array([])\n",
    "EntriesCuts = np.array([])\n",
    "\n",
    "DFrameArray = []\n",
    "DFrameArrayCuts = []\n",
    "\n",
    "FileNames = []\n",
    "\n",
    "def OneDataFrame():\n",
    "    \n",
    "    for f in glob.glob('Databases/*.xls'):\n",
    "        df = pd.read_excel(f,sheet_name='hoja1')\n",
    "        df = NanOff(df) # TAKE OUT THE NAN ENTRIES\n",
    "        \n",
    "        DFrameArray.append(df)\n",
    "        FileNames.append(f)\n",
    "        \n",
    "    dft = pd.concat(DFrameArray,ignore_index='True')\n",
    "    \n",
    "    return dft"
   ]
  },
  {
   "cell_type": "code",
   "execution_count": 10,
   "metadata": {},
   "outputs": [
    {
     "name": "stdout",
     "output_type": "stream",
     "text": [
      "140360137937552\n",
      "140360137267896\n"
     ]
    }
   ],
   "source": [
    "# each element in DFrameArray is a dataframe for each section\n",
    "\n",
    "# The index 4 contains all the information\n",
    "DFrameArray.append(OneDataFrame())\n",
    "DFrameArrayCuts = DFrameArray[:] #  Do slicing properly\n",
    "\n",
    "print(id(DFrameArray))\n",
    "print(id(DFrameArrayCuts))"
   ]
  },
  {
   "cell_type": "code",
   "execution_count": 11,
   "metadata": {},
   "outputs": [
    {
     "name": "stdout",
     "output_type": "stream",
     "text": [
      "Databases/202110_10468_Lista de clase_16.xls\n",
      "Databases/202110_39380_Lista de clase_17.xls\n",
      "Databases/202110_39422_Lista de clase_19.xls\n",
      "Databases/202110_39384_Lista de clase_18.xls\n",
      "[23. 21. 20. 21. 85.]\n"
     ]
    }
   ],
   "source": [
    "Entries = np.array([])\n",
    "\n",
    "for i in range(len(FileNames)+1):\n",
    "    Entries = np.append(Entries, DFrameArray[i]['ID'].count())\n",
    "    if i != 4:\n",
    "        print(FileNames[i])\n",
    "# Total entries in each group\n",
    "print(Entries)"
   ]
  },
  {
   "cell_type": "code",
   "execution_count": 12,
   "metadata": {},
   "outputs": [
    {
     "data": {
      "text/html": [
       "<div>\n",
       "<style scoped>\n",
       "    .dataframe tbody tr th:only-of-type {\n",
       "        vertical-align: middle;\n",
       "    }\n",
       "\n",
       "    .dataframe tbody tr th {\n",
       "        vertical-align: top;\n",
       "    }\n",
       "\n",
       "    .dataframe thead th {\n",
       "        text-align: right;\n",
       "    }\n",
       "</style>\n",
       "<table border=\"1\" class=\"dataframe\">\n",
       "  <thead>\n",
       "    <tr style=\"text-align: right;\">\n",
       "      <th></th>\n",
       "      <th>ID</th>\n",
       "      <th>Nota1</th>\n",
       "      <th>A1</th>\n",
       "      <th>B1</th>\n",
       "      <th>C1</th>\n",
       "      <th>D1</th>\n",
       "      <th>E1</th>\n",
       "      <th>F1</th>\n",
       "      <th>Nota2</th>\n",
       "      <th>A2</th>\n",
       "      <th>B2</th>\n",
       "      <th>C2</th>\n",
       "      <th>D2</th>\n",
       "      <th>E2</th>\n",
       "      <th>F2</th>\n",
       "    </tr>\n",
       "  </thead>\n",
       "  <tbody>\n",
       "    <tr>\n",
       "      <th>count</th>\n",
       "      <td>8.500000e+01</td>\n",
       "      <td>85.000000</td>\n",
       "      <td>85.000000</td>\n",
       "      <td>85.000000</td>\n",
       "      <td>85.000000</td>\n",
       "      <td>85.0</td>\n",
       "      <td>85.0</td>\n",
       "      <td>85.0</td>\n",
       "      <td>85.0</td>\n",
       "      <td>85.0</td>\n",
       "      <td>85.0</td>\n",
       "      <td>85.0</td>\n",
       "      <td>85.0</td>\n",
       "      <td>85.0</td>\n",
       "      <td>85.0</td>\n",
       "    </tr>\n",
       "    <tr>\n",
       "      <th>mean</th>\n",
       "      <td>2.019522e+08</td>\n",
       "      <td>3.290588</td>\n",
       "      <td>0.672941</td>\n",
       "      <td>0.527059</td>\n",
       "      <td>0.272941</td>\n",
       "      <td>-1.0</td>\n",
       "      <td>-1.0</td>\n",
       "      <td>-1.0</td>\n",
       "      <td>-1.0</td>\n",
       "      <td>-1.0</td>\n",
       "      <td>-1.0</td>\n",
       "      <td>-1.0</td>\n",
       "      <td>-1.0</td>\n",
       "      <td>-1.0</td>\n",
       "      <td>-1.0</td>\n",
       "    </tr>\n",
       "    <tr>\n",
       "      <th>std</th>\n",
       "      <td>1.343301e+05</td>\n",
       "      <td>1.107617</td>\n",
       "      <td>0.180863</td>\n",
       "      <td>0.218974</td>\n",
       "      <td>0.308371</td>\n",
       "      <td>0.0</td>\n",
       "      <td>0.0</td>\n",
       "      <td>0.0</td>\n",
       "      <td>0.0</td>\n",
       "      <td>0.0</td>\n",
       "      <td>0.0</td>\n",
       "      <td>0.0</td>\n",
       "      <td>0.0</td>\n",
       "      <td>0.0</td>\n",
       "      <td>0.0</td>\n",
       "    </tr>\n",
       "    <tr>\n",
       "      <th>min</th>\n",
       "      <td>2.014233e+08</td>\n",
       "      <td>0.000000</td>\n",
       "      <td>0.000000</td>\n",
       "      <td>0.000000</td>\n",
       "      <td>0.000000</td>\n",
       "      <td>-1.0</td>\n",
       "      <td>-1.0</td>\n",
       "      <td>-1.0</td>\n",
       "      <td>-1.0</td>\n",
       "      <td>-1.0</td>\n",
       "      <td>-1.0</td>\n",
       "      <td>-1.0</td>\n",
       "      <td>-1.0</td>\n",
       "      <td>-1.0</td>\n",
       "      <td>-1.0</td>\n",
       "    </tr>\n",
       "    <tr>\n",
       "      <th>25%</th>\n",
       "      <td>2.019209e+08</td>\n",
       "      <td>2.500000</td>\n",
       "      <td>0.600000</td>\n",
       "      <td>0.500000</td>\n",
       "      <td>0.000000</td>\n",
       "      <td>-1.0</td>\n",
       "      <td>-1.0</td>\n",
       "      <td>-1.0</td>\n",
       "      <td>-1.0</td>\n",
       "      <td>-1.0</td>\n",
       "      <td>-1.0</td>\n",
       "      <td>-1.0</td>\n",
       "      <td>-1.0</td>\n",
       "      <td>-1.0</td>\n",
       "      <td>-1.0</td>\n",
       "    </tr>\n",
       "    <tr>\n",
       "      <th>50%</th>\n",
       "      <td>2.020131e+08</td>\n",
       "      <td>3.500000</td>\n",
       "      <td>0.700000</td>\n",
       "      <td>0.500000</td>\n",
       "      <td>0.000000</td>\n",
       "      <td>-1.0</td>\n",
       "      <td>-1.0</td>\n",
       "      <td>-1.0</td>\n",
       "      <td>-1.0</td>\n",
       "      <td>-1.0</td>\n",
       "      <td>-1.0</td>\n",
       "      <td>-1.0</td>\n",
       "      <td>-1.0</td>\n",
       "      <td>-1.0</td>\n",
       "      <td>-1.0</td>\n",
       "    </tr>\n",
       "    <tr>\n",
       "      <th>75%</th>\n",
       "      <td>2.020211e+08</td>\n",
       "      <td>4.000000</td>\n",
       "      <td>0.800000</td>\n",
       "      <td>0.600000</td>\n",
       "      <td>0.500000</td>\n",
       "      <td>-1.0</td>\n",
       "      <td>-1.0</td>\n",
       "      <td>-1.0</td>\n",
       "      <td>-1.0</td>\n",
       "      <td>-1.0</td>\n",
       "      <td>-1.0</td>\n",
       "      <td>-1.0</td>\n",
       "      <td>-1.0</td>\n",
       "      <td>-1.0</td>\n",
       "      <td>-1.0</td>\n",
       "    </tr>\n",
       "    <tr>\n",
       "      <th>max</th>\n",
       "      <td>2.021134e+08</td>\n",
       "      <td>5.000000</td>\n",
       "      <td>1.000000</td>\n",
       "      <td>1.000000</td>\n",
       "      <td>1.000000</td>\n",
       "      <td>-1.0</td>\n",
       "      <td>-1.0</td>\n",
       "      <td>-1.0</td>\n",
       "      <td>-1.0</td>\n",
       "      <td>-1.0</td>\n",
       "      <td>-1.0</td>\n",
       "      <td>-1.0</td>\n",
       "      <td>-1.0</td>\n",
       "      <td>-1.0</td>\n",
       "      <td>-1.0</td>\n",
       "    </tr>\n",
       "  </tbody>\n",
       "</table>\n",
       "</div>"
      ],
      "text/plain": [
       "                 ID      Nota1         A1         B1         C1    D1    E1  \\\n",
       "count  8.500000e+01  85.000000  85.000000  85.000000  85.000000  85.0  85.0   \n",
       "mean   2.019522e+08   3.290588   0.672941   0.527059   0.272941  -1.0  -1.0   \n",
       "std    1.343301e+05   1.107617   0.180863   0.218974   0.308371   0.0   0.0   \n",
       "min    2.014233e+08   0.000000   0.000000   0.000000   0.000000  -1.0  -1.0   \n",
       "25%    2.019209e+08   2.500000   0.600000   0.500000   0.000000  -1.0  -1.0   \n",
       "50%    2.020131e+08   3.500000   0.700000   0.500000   0.000000  -1.0  -1.0   \n",
       "75%    2.020211e+08   4.000000   0.800000   0.600000   0.500000  -1.0  -1.0   \n",
       "max    2.021134e+08   5.000000   1.000000   1.000000   1.000000  -1.0  -1.0   \n",
       "\n",
       "         F1  Nota2    A2    B2    C2    D2    E2    F2  \n",
       "count  85.0   85.0  85.0  85.0  85.0  85.0  85.0  85.0  \n",
       "mean   -1.0   -1.0  -1.0  -1.0  -1.0  -1.0  -1.0  -1.0  \n",
       "std     0.0    0.0   0.0   0.0   0.0   0.0   0.0   0.0  \n",
       "min    -1.0   -1.0  -1.0  -1.0  -1.0  -1.0  -1.0  -1.0  \n",
       "25%    -1.0   -1.0  -1.0  -1.0  -1.0  -1.0  -1.0  -1.0  \n",
       "50%    -1.0   -1.0  -1.0  -1.0  -1.0  -1.0  -1.0  -1.0  \n",
       "75%    -1.0   -1.0  -1.0  -1.0  -1.0  -1.0  -1.0  -1.0  \n",
       "max    -1.0   -1.0  -1.0  -1.0  -1.0  -1.0  -1.0  -1.0  "
      ]
     },
     "execution_count": 12,
     "metadata": {},
     "output_type": "execute_result"
    }
   ],
   "source": [
    "DFrameArray[4].describe()"
   ]
  },
  {
   "cell_type": "markdown",
   "metadata": {},
   "source": [
    "# Descriptive Statistics"
   ]
  },
  {
   "cell_type": "code",
   "execution_count": 13,
   "metadata": {},
   "outputs": [
    {
     "name": "stdout",
     "output_type": "stream",
     "text": [
      "Calculating for: Nota1\n",
      "Calculating for: A1\n",
      "Calculating for: B1\n",
      "Calculating for: C1\n"
     ]
    }
   ],
   "source": [
    "Names = ['Nota','A','B','C']\n",
    "\n",
    "NNotas = 1\n",
    "\n",
    "DictMean = {}\n",
    "DictStd = {}\n",
    "\n",
    "for i in Names:  # Cathegories\n",
    "    \n",
    "    for j in range(1,NNotas+1): # Grades\n",
    "        \n",
    "        Name_ = i + str(j)\n",
    "        \n",
    "        print('Calculating for: '+Name_)\n",
    "\n",
    "        Mean = np.array([])\n",
    "        Std = np.array([])\n",
    "\n",
    "\n",
    "        for k in range(len(FileNames)+1):\n",
    "            Mean = np.append(Mean,np.average(DFrameArray[k][Name_]))\n",
    "            Std = np.append(Std,np.std(DFrameArray[k][Name_]))\n",
    "        \n",
    "        DictMean[Name_] = Mean\n",
    "        DictStd[Name_] = Std"
   ]
  },
  {
   "cell_type": "code",
   "execution_count": 14,
   "metadata": {},
   "outputs": [
    {
     "name": "stdout",
     "output_type": "stream",
     "text": [
      "A1:\n",
      "[0.6        0.67142857 0.66       0.76666667 0.67294118]\n",
      "[0.18177865 0.18553105 0.19595918 0.0942809  0.17979612]\n",
      "C1:\n",
      "[0.26521739 0.30952381 0.225      0.29047619 0.27294118]\n",
      "[0.30872627 0.31305676 0.3284433  0.2670915  0.3065513 ]\n",
      "Nota1:\n",
      "[2.67391304 3.5047619  3.365      3.68095238 3.29058824]\n",
      "[1.14785902 1.00828765 1.23502024 0.6122706  1.1010822 ]\n",
      "B1:\n",
      "[0.46521739 0.52380952 0.56       0.56666667 0.52705882]\n",
      "[0.2883366  0.14769583 0.23537205 0.13915847 0.21768203]\n"
     ]
    }
   ],
   "source": [
    "# Print Dictionaries\n",
    "\n",
    "for i in DictMean.keys():\n",
    "    print(i+':')\n",
    "    print(DictMean[i])\n",
    "    print(DictStd[i])"
   ]
  },
  {
   "cell_type": "markdown",
   "metadata": {},
   "source": [
    "# Cuts"
   ]
  },
  {
   "cell_type": "code",
   "execution_count": 36,
   "metadata": {},
   "outputs": [],
   "source": [
    "def GetCuts(Cuts_):\n",
    "    \n",
    "    EntriesCuts = np.array([])\n",
    "    \n",
    "    Keys = Cuts_.keys()\n",
    "    Values = Cuts_.values()\n",
    "    \n",
    "    for i in range(len(FileNames)+1):\n",
    "    \n",
    "        # Set of cuts\n",
    "        Cut0 = DFrameArray[i][Keys[0]] >= Values[0]\n",
    "        Cut1 = DFrameArray[i][Keys[1]] >= Values[1]\n",
    "        Cut2 = DFrameArray[i][Keys[2]] >= Values[2]\n",
    "    \n",
    "        DFrameArrayCuts[i] = DFrameArray[i][(Cut0) & (Cut1) & (Cut2)]    \n",
    "        # Get the new number of entries\n",
    "        EntriesCuts = np.append(EntriesCuts, DFrameArrayCuts[i]['ID'].count())\n",
    "\n",
    "\n",
    "    # Array of efficiencies\n",
    "    Efficiencies = EntriesCuts/Entries\n",
    "\n",
    "    #Testing \n",
    "    #print(EntriesCuts, Entries)\n",
    "        \n",
    "    return Efficiencies"
   ]
  },
  {
   "cell_type": "code",
   "execution_count": 39,
   "metadata": {},
   "outputs": [
    {
     "name": "stdout",
     "output_type": "stream",
     "text": [
      "[0.34782609 0.28571429 0.45       0.38095238 0.36470588]\n",
      "8\n",
      "6\n",
      "9\n",
      "8\n",
      "31\n",
      "[23. 21. 20. 21. 85.]\n"
     ]
    }
   ],
   "source": [
    "Cuts = {'Nota1':3.0, 'A1':0.5, 'B1': 0.6}\n",
    "Efficiencies = GetCuts(Cuts)\n",
    "print(Efficiencies)\n",
    "\n",
    "# Closure Test\n",
    "for i in range(len(FileNames)+1):\n",
    "    print(DFrameArrayCuts[i]['ID'].count())\n",
    "\n",
    "print(Entries)"
   ]
  },
  {
   "cell_type": "code",
   "execution_count": null,
   "metadata": {},
   "outputs": [],
   "source": []
  },
  {
   "cell_type": "code",
   "execution_count": null,
   "metadata": {},
   "outputs": [],
   "source": []
  },
  {
   "cell_type": "code",
   "execution_count": null,
   "metadata": {},
   "outputs": [],
   "source": []
  },
  {
   "cell_type": "code",
   "execution_count": null,
   "metadata": {},
   "outputs": [],
   "source": []
  },
  {
   "cell_type": "markdown",
   "metadata": {},
   "source": [
    "# Plotting"
   ]
  },
  {
   "cell_type": "code",
   "execution_count": 9,
   "metadata": {},
   "outputs": [],
   "source": [
    "def CreateGroupFig(grupo, variable):\n",
    "    \n",
    "    fig = plt.figure(figsize=(10,10))\n",
    "\n",
    "    ax1 = fig.add_subplot(2,2,1)\n",
    "    ax1 = DFrameArray[0].groupby(grupo)[variable].sum().plot(kind='bar')\n",
    "    #ax1.set_xlabel(grupo, fontsize=12)\n",
    "    ax1.set_ylabel(variable, fontsize=12)\n",
    "\n",
    "    ax2 = fig.add_subplot(2,2,2)\n",
    "    ax2 = DFrameArray[1].groupby(grupo)[variable].sum().plot(kind='bar')\n",
    "    #ax2.set_xlabel(grupo, fontsize=12)\n",
    "    #ax2.set_ylabel(variable, fontsize=12)\n",
    "\n",
    "    ax3 = fig.add_subplot(2,2,3)\n",
    "    ax3 = DFrameArray[2].groupby(grupo)[variable].sum().plot(kind='bar')\n",
    "    ax3.set_xlabel(grupo, fontsize=12)\n",
    "    ax3.set_ylabel(variable, fontsize=12)\n",
    "\n",
    "    ax4 = fig.add_subplot(2,2,4)\n",
    "    ax4 = DFrameArray[3].groupby(grupo)[variable].sum().plot(kind='bar')\n",
    "    ax4.set_xlabel(grupo, fontsize=12)\n",
    "    #ax4.set_ylabel(variable, fontsize=12)\n",
    "\n",
    "    plt.savefig('Figures/'+grupo+'_'+variable+'.pdf',dpi=100,bbox_inches='tight')\n",
    "    plt.close()\n",
    "\n",
    "    fig = plt.figure(figsize=(10,10))\n",
    "    ax1 = fig.add_subplot(1,1,1)\n",
    "    ax1 = dft.groupby(grupo)[variable].sum().plot(kind='bar')\n",
    "    ax1.set_xlabel(grupo, fontsize=12)\n",
    "    ax1.set_ylabel(variable, fontsize=12)\n",
    "    \n",
    "    plt.savefig('Figures/'+grupo+'_'+variable+'T.pdf',dpi=100,bbox_inches='tight')\n",
    "    plt.close()\n"
   ]
  },
  {
   "cell_type": "code",
   "execution_count": 10,
   "metadata": {},
   "outputs": [
    {
     "name": "stdout",
     "output_type": "stream",
     "text": [
      "('-- Calculating ---', 'Nota1')\n",
      "('-- Calculating ---', 'A1')\n",
      "('-- Calculating ---', 'B1')\n",
      "('-- Calculating ---', 'C1')\n"
     ]
    }
   ],
   "source": [
    "# Plotting using group by\n",
    "\n",
    "grupo = 'ID'  # Variable que agrupa\n",
    "\n",
    "for i in Names:  # Cathegories\n",
    "    \n",
    "    for j in range(1,NNotas+1): # Grades\n",
    "        \n",
    "        Name_ = i + str(j)\n",
    "        \n",
    "        print('-- Calculating ---', Name_)\n",
    "        \n",
    "        CreateGroupFig(grupo,Name_)"
   ]
  },
  {
   "cell_type": "code",
   "execution_count": 11,
   "metadata": {},
   "outputs": [],
   "source": [
    "# Uso de filtros por columna\n",
    "#DFrameArray[0].filter(items=['ID','A1','A2'])\n",
    "#DFrameArray[1].filter(like='A',axis=1)\n",
    "\n",
    "\n",
    "# Seleccion por filar\n",
    "#DFrameArray[2].set_index('A1')\n",
    "\n",
    "#print(DFrameArray[2].loc[0:3])\n",
    "#print(DFrameArray[2].iloc[:,0:2])\n",
    "\n",
    "#print(DFrameArray[0]['Nota1'])\n",
    "#print(dft['A1'])"
   ]
  },
  {
   "cell_type": "code",
   "execution_count": null,
   "metadata": {},
   "outputs": [],
   "source": []
  },
  {
   "cell_type": "code",
   "execution_count": 12,
   "metadata": {},
   "outputs": [
    {
     "data": {
      "image/png": "[encoded data removed]",
      "text/plain": [
       "<Figure size 432x288 with 1 Axes>"
      ]
     },
     "metadata": {
      "needs_background": "light"
     },
     "output_type": "display_data"
    }
   ],
   "source": [
    "plt.hist(dft['B1'])\n",
    "#plt.hist(DFrameArray[0]['Nota1'], density = True)\n",
    "plt.show()"
   ]
  },
  {
   "cell_type": "code",
   "execution_count": 13,
   "metadata": {},
   "outputs": [
    {
     "name": "stdout",
     "output_type": "stream",
     "text": [
      "                                Nombre         ID  Nota1   A1   B1   C1   D1  \\\n",
      "2             GOMEZ TOSCANO, ANA MARIA  202021204    2.0  0.6  0.2  0.0 -1.0   \n",
      "4     LEYTON LOPEZ, FERNANDA VALENTINA  202111884    2.5  0.6  0.6  0.4 -1.0   \n",
      "6        MORENO SUAREZ, DORIS NATHALIA  201820035    1.5  0.6  0.0  0.0 -1.0   \n",
      "7         SANCHEZ PAZOS, CAMILO ANDRES  202113026    2.5  0.5  0.3  0.5 -1.0   \n",
      "8         VANEGAS ESCOBAR, JUAN FELIPE  202113279    2.0  0.3  0.5  0.5 -1.0   \n",
      "9              VERA ANAYA, MARIA PAULA  202113340    2.0  0.6  0.3  0.0 -1.0   \n",
      "10        ZAMORA CORTES, DAVID ERNESTO  202113407    1.5  0.3  0.3  0.0 -1.0   \n",
      "11          CARDENAS BARRAGAN, NATALIA  201423256    1.0  0.3  0.0  0.0 -1.0   \n",
      "13                FINO VILLAMIL, LAURA  202012077    2.0  0.5  0.4  0.0 -1.0   \n",
      "14        GALINDO MORENO, PAULA ANDREA  202012135    2.0  0.5  0.4  0.0 -1.0   \n",
      "16          HERNANDEZ PEREZ, ELIZABETH  202012365    2.0  0.6  0.5  0.0 -1.0   \n",
      "18    PULIDO MARTINEZ, DIEGO ALEJANDRO  201818133    1.5  0.5  0.0  0.0 -1.0   \n",
      "19     QUINTERO MERIÑO, MICHAEL ALONSO  201730224    2.0  0.3  0.5  0.5 -1.0   \n",
      "20  RODRIGUEZ CEBALLOS, KIRPAL ANTONIO  202014758    1.5  0.8  0.0  0.0 -1.0   \n",
      "\n",
      "     E1   F1  Nota2   A2   B2   C2   D2   E2   F2  NotaFinal  \n",
      "2  -1.0 -1.0   -1.0 -1.0 -1.0 -1.0 -1.0 -1.0 -1.0        0.6  \n",
      "4  -1.0 -1.0   -1.0 -1.0 -1.0 -1.0 -1.0 -1.0 -1.0        0.6  \n",
      "6  -1.0 -1.0   -1.0 -1.0 -1.0 -1.0 -1.0 -1.0 -1.0        0.6  \n",
      "7  -1.0 -1.0   -1.0 -1.0 -1.0 -1.0 -1.0 -1.0 -1.0        0.5  \n",
      "8  -1.0 -1.0   -1.0 -1.0 -1.0 -1.0 -1.0 -1.0 -1.0        0.3  \n",
      "9  -1.0 -1.0   -1.0 -1.0 -1.0 -1.0 -1.0 -1.0 -1.0        0.6  \n",
      "10 -1.0 -1.0   -1.0 -1.0 -1.0 -1.0 -1.0 -1.0 -1.0        0.3  \n",
      "11 -1.0 -1.0   -1.0 -1.0 -1.0 -1.0 -1.0 -1.0 -1.0        0.3  \n",
      "13 -1.0 -1.0   -1.0 -1.0 -1.0 -1.0 -1.0 -1.0 -1.0        0.5  \n",
      "14 -1.0 -1.0   -1.0 -1.0 -1.0 -1.0 -1.0 -1.0 -1.0        0.5  \n",
      "16 -1.0 -1.0   -1.0 -1.0 -1.0 -1.0 -1.0 -1.0 -1.0        0.6  \n",
      "18 -1.0 -1.0   -1.0 -1.0 -1.0 -1.0 -1.0 -1.0 -1.0        0.5  \n",
      "19 -1.0 -1.0   -1.0 -1.0 -1.0 -1.0 -1.0 -1.0 -1.0        0.3  \n",
      "20 -1.0 -1.0   -1.0 -1.0 -1.0 -1.0 -1.0 -1.0 -1.0        0.8  \n"
     ]
    }
   ],
   "source": [
    "# Agregar columna\n",
    "\n",
    "Sum = 0\n",
    "\n",
    "for i in range(1,2):\n",
    "    Sum += DFrameArray[0]['A'+str(i)]\n",
    "\n",
    "dtest = DFrameArray[0].assign(NotaFinal=Sum.values)\n",
    "print(dtest)"
   ]
  },
  {
   "cell_type": "code",
   "execution_count": 14,
   "metadata": {},
   "outputs": [
    {
     "name": "stdout",
     "output_type": "stream",
     "text": [
      "202021204\n"
     ]
    }
   ],
   "source": [
    "# Mirar posicion\n",
    "print(dtest.iat[0,1])\n",
    "# Cambiar posicion\n",
    "##dtest.iat[0,1] = 3.\n",
    "#print(dtest)\n",
    "\n",
    "\n",
    "# Agregar columna o fila \n",
    "#dtest.loc['Suma x columna'] = dtest.sum(axis=0)\n",
    "#dtest.loc[:,'Suma x Renglon'] = dtest.sum(axis=1)\n",
    "#print(dtest)"
   ]
  },
  {
   "cell_type": "code",
   "execution_count": 15,
   "metadata": {},
   "outputs": [
    {
     "name": "stdout",
     "output_type": "stream",
     "text": [
      "1     0.6\n",
      "8     0.5\n",
      "11    0.6\n",
      "13    0.0\n",
      "16    0.6\n",
      "Name: A1, dtype: float64\n"
     ]
    }
   ],
   "source": [
    "#Select the information by columns\n",
    "for i in range(1,2):\n",
    "    print(DFrameArray[2]['A'+str(i)])"
   ]
  },
  {
   "cell_type": "code",
   "execution_count": null,
   "metadata": {},
   "outputs": [],
   "source": []
  },
  {
   "cell_type": "code",
   "execution_count": 16,
   "metadata": {},
   "outputs": [
    {
     "name": "stdout",
     "output_type": "stream",
     "text": [
      "                               Nombre         ID  Nota1   A1   B1   C1   D1  \\\n",
      "1       BARRERA GUEVARA, AURA NATALIA  202011469    2.0  0.6  0.0  0.0 -1.0   \n",
      "8     LEMUS MOSQUERA, MARIA VALENTINA  202021371    2.0  0.5  0.5  0.0 -1.0   \n",
      "11       MORENO BERNAL, LAURA DANIELA  202021602    2.0  0.6  0.6  0.0 -1.0   \n",
      "13  SERRANO GALLEGO, SANTIAGO EDUARDO  202013634    0.0  0.0  0.0  0.0 -1.0   \n",
      "16       URREA RODRIGUEZ, JUAN ANDRES  201820242    2.5  0.6  0.5  0.0 -1.0   \n",
      "\n",
      "     E1   F1  Nota2   A2   B2   C2   D2   E2   F2  \n",
      "1  -1.0 -1.0   -1.0 -1.0 -1.0 -1.0 -1.0 -1.0 -1.0  \n",
      "8  -1.0 -1.0   -1.0 -1.0 -1.0 -1.0 -1.0 -1.0 -1.0  \n",
      "11 -1.0 -1.0   -1.0 -1.0 -1.0 -1.0 -1.0 -1.0 -1.0  \n",
      "13 -1.0 -1.0   -1.0 -1.0 -1.0 -1.0 -1.0 -1.0 -1.0  \n",
      "16 -1.0 -1.0   -1.0 -1.0 -1.0 -1.0 -1.0 -1.0 -1.0  \n",
      "[0.6 0.5 0.6 0.  0.6]\n"
     ]
    }
   ],
   "source": [
    "# Vamos a hacer corte\n",
    "\n",
    "print(DFrameArray[2][DFrameArray[2]['A1']<0.7])\n",
    "A1 = DFrameArray[2]['A1']\n",
    "A1 = np.array(A1)\n",
    "print(A1)"
   ]
  },
  {
   "cell_type": "code",
   "execution_count": 17,
   "metadata": {},
   "outputs": [
    {
     "name": "stdout",
     "output_type": "stream",
     "text": [
      "0.6    5\n",
      "0.3    4\n",
      "0.5    4\n",
      "0.8    1\n",
      "Name: A1, dtype: int64\n"
     ]
    },
    {
     "data": {
      "image/png": "[encoded data removed]",
      "text/plain": [
       "<Figure size 432x288 with 1 Axes>"
      ]
     },
     "metadata": {},
     "output_type": "display_data"
    }
   ],
   "source": [
    "# Plotting pies\n",
    "\n",
    "\n",
    "sizes = DFrameArray[0]['A1'].value_counts()\n",
    "print(sizes)\n",
    "pie = DFrameArray[0]['A1'].value_counts().plot(kind='pie', shadow=True,\\\n",
    "                                              autopct='%1.1f%%', startangle=30,\\\n",
    "                                              radius=1.5,center=(0.5,0.5),\\\n",
    "                                              textprops={'fontsize':12},frame=False,\\\n",
    "                                              pctdistance=0.65)\n",
    "pie.set_ylabel('')\n",
    "pie.set_xlabel('')\n",
    "\n",
    "\n",
    "labels=sizes.index.unique()\n",
    "plt.gca().axis('equal')\n",
    "plt.title(DFrameArray[0].columns[3], weight='bold',size=14)\n",
    "plt.legend(labels, bbox_to_anchor=(0.,1.1))\n",
    "\n",
    "\n",
    "plt.savefig('Figures/A1.pdf',dpi=100,bbox_inches='tight')\n"
   ]
  },
  {
   "cell_type": "code",
   "execution_count": 18,
   "metadata": {},
   "outputs": [
    {
     "data": {
      "image/png": "[encoded data removed]",
      "text/plain": [
       "<Figure size 720x720 with 1 Axes>"
      ]
     },
     "metadata": {
      "needs_background": "light"
     },
     "output_type": "display_data"
    }
   ],
   "source": [
    "# plotting using group by\n",
    "\n",
    "fig = plt.figure(figsize=(10,10))\n",
    "\n",
    "dft.groupby('Nota1')['A1'].sum().plot(kind='bar',legend='Reverse')\n",
    "#DFrameArray[1].groupby('Nota1')['A1'].sum().plot(kind='bar',legend='Reverse')\n",
    "\n",
    "plt.xlabel('ID')\n",
    "plt.ylabel('Competencia')\n",
    "plt.savefig('Figures/A1Bars.pdf',dpi=100,bbox_inches='tight')"
   ]
  },
  {
   "cell_type": "code",
   "execution_count": 19,
   "metadata": {},
   "outputs": [
    {
     "ename": "ValueError",
     "evalue": "pie doesn't allow negative values",
     "output_type": "error",
     "traceback": [
      "\u001b[0;31m---------------------------------------------------------------------------\u001b[0m",
      "\u001b[0;31mValueError\u001b[0m                                Traceback (most recent call last)",
      "\u001b[0;32m<ipython-input-19-c75203ec88a6>\u001b[0m in \u001b[0;36m<module>\u001b[0;34m()\u001b[0m\n\u001b[1;32m      1\u001b[0m \u001b[0mfig\u001b[0m \u001b[0;34m=\u001b[0m \u001b[0mplt\u001b[0m\u001b[0;34m.\u001b[0m\u001b[0mfigure\u001b[0m\u001b[0;34m(\u001b[0m\u001b[0;34m)\u001b[0m\u001b[0;34m\u001b[0m\u001b[0m\n\u001b[1;32m      2\u001b[0m \u001b[0;34m\u001b[0m\u001b[0m\n\u001b[0;32m----> 3\u001b[0;31m \u001b[0mDFrameArray\u001b[0m\u001b[0;34m[\u001b[0m\u001b[0;36m2\u001b[0m\u001b[0;34m]\u001b[0m\u001b[0;34m.\u001b[0m\u001b[0mA2\u001b[0m\u001b[0;34m.\u001b[0m\u001b[0mgroupby\u001b[0m\u001b[0;34m(\u001b[0m\u001b[0mDFrameArray\u001b[0m\u001b[0;34m[\u001b[0m\u001b[0;36m2\u001b[0m\u001b[0;34m]\u001b[0m\u001b[0;34m.\u001b[0m\u001b[0mID\u001b[0m\u001b[0;34m)\u001b[0m\u001b[0;34m.\u001b[0m\u001b[0msum\u001b[0m\u001b[0;34m(\u001b[0m\u001b[0;34m)\u001b[0m\u001b[0;34m.\u001b[0m\u001b[0mplot\u001b[0m\u001b[0;34m(\u001b[0m\u001b[0mkind\u001b[0m\u001b[0;34m=\u001b[0m\u001b[0;34m'pie'\u001b[0m\u001b[0;34m,\u001b[0m\u001b[0mcmap\u001b[0m\u001b[0;34m=\u001b[0m\u001b[0;34m'viridis'\u001b[0m\u001b[0;34m)\u001b[0m\u001b[0;34m\u001b[0m\u001b[0m\n\u001b[0m\u001b[1;32m      4\u001b[0m \u001b[0mplt\u001b[0m\u001b[0;34m.\u001b[0m\u001b[0maxis\u001b[0m\u001b[0;34m(\u001b[0m\u001b[0;34m'equal'\u001b[0m\u001b[0;34m)\u001b[0m\u001b[0;34m\u001b[0m\u001b[0m\n\u001b[1;32m      5\u001b[0m \u001b[0mplt\u001b[0m\u001b[0;34m.\u001b[0m\u001b[0mylabel\u001b[0m\u001b[0;34m(\u001b[0m\u001b[0;34m''\u001b[0m\u001b[0;34m)\u001b[0m\u001b[0;34m\u001b[0m\u001b[0m\n",
      "\u001b[0;32m/home/alejandro/anaconda2/lib/python2.7/site-packages/pandas/plotting/_core.pyc\u001b[0m in \u001b[0;36m__call__\u001b[0;34m(self, kind, ax, figsize, use_index, title, grid, legend, style, logx, logy, loglog, xticks, yticks, xlim, ylim, rot, fontsize, colormap, table, yerr, xerr, label, secondary_y, **kwds)\u001b[0m\n\u001b[1;32m   2740\u001b[0m                            \u001b[0mcolormap\u001b[0m\u001b[0;34m=\u001b[0m\u001b[0mcolormap\u001b[0m\u001b[0;34m,\u001b[0m \u001b[0mtable\u001b[0m\u001b[0;34m=\u001b[0m\u001b[0mtable\u001b[0m\u001b[0;34m,\u001b[0m \u001b[0myerr\u001b[0m\u001b[0;34m=\u001b[0m\u001b[0myerr\u001b[0m\u001b[0;34m,\u001b[0m\u001b[0;34m\u001b[0m\u001b[0m\n\u001b[1;32m   2741\u001b[0m                            \u001b[0mxerr\u001b[0m\u001b[0;34m=\u001b[0m\u001b[0mxerr\u001b[0m\u001b[0;34m,\u001b[0m \u001b[0mlabel\u001b[0m\u001b[0;34m=\u001b[0m\u001b[0mlabel\u001b[0m\u001b[0;34m,\u001b[0m \u001b[0msecondary_y\u001b[0m\u001b[0;34m=\u001b[0m\u001b[0msecondary_y\u001b[0m\u001b[0;34m,\u001b[0m\u001b[0;34m\u001b[0m\u001b[0m\n\u001b[0;32m-> 2742\u001b[0;31m                            **kwds)\n\u001b[0m\u001b[1;32m   2743\u001b[0m     \u001b[0m__call__\u001b[0m\u001b[0;34m.\u001b[0m\u001b[0m__doc__\u001b[0m \u001b[0;34m=\u001b[0m \u001b[0mplot_series\u001b[0m\u001b[0;34m.\u001b[0m\u001b[0m__doc__\u001b[0m\u001b[0;34m\u001b[0m\u001b[0m\n\u001b[1;32m   2744\u001b[0m \u001b[0;34m\u001b[0m\u001b[0m\n",
      "\u001b[0;32m/home/alejandro/anaconda2/lib/python2.7/site-packages/pandas/plotting/_core.pyc\u001b[0m in \u001b[0;36mplot_series\u001b[0;34m(data, kind, ax, figsize, use_index, title, grid, legend, style, logx, logy, loglog, xticks, yticks, xlim, ylim, rot, fontsize, colormap, table, yerr, xerr, label, secondary_y, **kwds)\u001b[0m\n\u001b[1;32m   1996\u001b[0m                  \u001b[0myerr\u001b[0m\u001b[0;34m=\u001b[0m\u001b[0myerr\u001b[0m\u001b[0;34m,\u001b[0m \u001b[0mxerr\u001b[0m\u001b[0;34m=\u001b[0m\u001b[0mxerr\u001b[0m\u001b[0;34m,\u001b[0m\u001b[0;34m\u001b[0m\u001b[0m\n\u001b[1;32m   1997\u001b[0m                  \u001b[0mlabel\u001b[0m\u001b[0;34m=\u001b[0m\u001b[0mlabel\u001b[0m\u001b[0;34m,\u001b[0m \u001b[0msecondary_y\u001b[0m\u001b[0;34m=\u001b[0m\u001b[0msecondary_y\u001b[0m\u001b[0;34m,\u001b[0m\u001b[0;34m\u001b[0m\u001b[0m\n\u001b[0;32m-> 1998\u001b[0;31m                  **kwds)\n\u001b[0m\u001b[1;32m   1999\u001b[0m \u001b[0;34m\u001b[0m\u001b[0m\n\u001b[1;32m   2000\u001b[0m \u001b[0;34m\u001b[0m\u001b[0m\n",
      "\u001b[0;32m/home/alejandro/anaconda2/lib/python2.7/site-packages/pandas/plotting/_core.pyc\u001b[0m in \u001b[0;36m_plot\u001b[0;34m(data, x, y, subplots, ax, kind, **kwds)\u001b[0m\n\u001b[1;32m   1754\u001b[0m                 \u001b[0mdata\u001b[0m \u001b[0;34m=\u001b[0m \u001b[0mdata\u001b[0m\u001b[0;34m[\u001b[0m\u001b[0my\u001b[0m\u001b[0;34m]\u001b[0m\u001b[0;34m.\u001b[0m\u001b[0mcopy\u001b[0m\u001b[0;34m(\u001b[0m\u001b[0;34m)\u001b[0m\u001b[0;34m\u001b[0m\u001b[0m\n\u001b[1;32m   1755\u001b[0m                 \u001b[0mdata\u001b[0m\u001b[0;34m.\u001b[0m\u001b[0mindex\u001b[0m\u001b[0;34m.\u001b[0m\u001b[0mname\u001b[0m \u001b[0;34m=\u001b[0m \u001b[0my\u001b[0m\u001b[0;34m\u001b[0m\u001b[0m\n\u001b[0;32m-> 1756\u001b[0;31m         \u001b[0mplot_obj\u001b[0m \u001b[0;34m=\u001b[0m \u001b[0mklass\u001b[0m\u001b[0;34m(\u001b[0m\u001b[0mdata\u001b[0m\u001b[0;34m,\u001b[0m \u001b[0msubplots\u001b[0m\u001b[0;34m=\u001b[0m\u001b[0msubplots\u001b[0m\u001b[0;34m,\u001b[0m \u001b[0max\u001b[0m\u001b[0;34m=\u001b[0m\u001b[0max\u001b[0m\u001b[0;34m,\u001b[0m \u001b[0mkind\u001b[0m\u001b[0;34m=\u001b[0m\u001b[0mkind\u001b[0m\u001b[0;34m,\u001b[0m \u001b[0;34m**\u001b[0m\u001b[0mkwds\u001b[0m\u001b[0;34m)\u001b[0m\u001b[0;34m\u001b[0m\u001b[0m\n\u001b[0m\u001b[1;32m   1757\u001b[0m     \u001b[0;32melse\u001b[0m\u001b[0;34m:\u001b[0m\u001b[0;34m\u001b[0m\u001b[0m\n\u001b[1;32m   1758\u001b[0m         \u001b[0;32mif\u001b[0m \u001b[0misinstance\u001b[0m\u001b[0;34m(\u001b[0m\u001b[0mdata\u001b[0m\u001b[0;34m,\u001b[0m \u001b[0mABCDataFrame\u001b[0m\u001b[0;34m)\u001b[0m\u001b[0;34m:\u001b[0m\u001b[0;34m\u001b[0m\u001b[0m\n",
      "\u001b[0;32m/home/alejandro/anaconda2/lib/python2.7/site-packages/pandas/plotting/_core.pyc\u001b[0m in \u001b[0;36m__init__\u001b[0;34m(self, data, kind, **kwargs)\u001b[0m\n\u001b[1;32m   1496\u001b[0m         \u001b[0mdata\u001b[0m \u001b[0;34m=\u001b[0m \u001b[0mdata\u001b[0m\u001b[0;34m.\u001b[0m\u001b[0mfillna\u001b[0m\u001b[0;34m(\u001b[0m\u001b[0mvalue\u001b[0m\u001b[0;34m=\u001b[0m\u001b[0;36m0\u001b[0m\u001b[0;34m)\u001b[0m\u001b[0;34m\u001b[0m\u001b[0m\n\u001b[1;32m   1497\u001b[0m         \u001b[0;32mif\u001b[0m \u001b[0;34m(\u001b[0m\u001b[0mdata\u001b[0m \u001b[0;34m<\u001b[0m \u001b[0;36m0\u001b[0m\u001b[0;34m)\u001b[0m\u001b[0;34m.\u001b[0m\u001b[0many\u001b[0m\u001b[0;34m(\u001b[0m\u001b[0;34m)\u001b[0m\u001b[0;34m.\u001b[0m\u001b[0many\u001b[0m\u001b[0;34m(\u001b[0m\u001b[0;34m)\u001b[0m\u001b[0;34m:\u001b[0m\u001b[0;34m\u001b[0m\u001b[0m\n\u001b[0;32m-> 1498\u001b[0;31m             \u001b[0;32mraise\u001b[0m \u001b[0mValueError\u001b[0m\u001b[0;34m(\u001b[0m\u001b[0;34m\"{0} doesn't allow negative values\"\u001b[0m\u001b[0;34m.\u001b[0m\u001b[0mformat\u001b[0m\u001b[0;34m(\u001b[0m\u001b[0mkind\u001b[0m\u001b[0;34m)\u001b[0m\u001b[0;34m)\u001b[0m\u001b[0;34m\u001b[0m\u001b[0m\n\u001b[0m\u001b[1;32m   1499\u001b[0m         \u001b[0mMPLPlot\u001b[0m\u001b[0;34m.\u001b[0m\u001b[0m__init__\u001b[0m\u001b[0;34m(\u001b[0m\u001b[0mself\u001b[0m\u001b[0;34m,\u001b[0m \u001b[0mdata\u001b[0m\u001b[0;34m,\u001b[0m \u001b[0mkind\u001b[0m\u001b[0;34m=\u001b[0m\u001b[0mkind\u001b[0m\u001b[0;34m,\u001b[0m \u001b[0;34m**\u001b[0m\u001b[0mkwargs\u001b[0m\u001b[0;34m)\u001b[0m\u001b[0;34m\u001b[0m\u001b[0m\n\u001b[1;32m   1500\u001b[0m \u001b[0;34m\u001b[0m\u001b[0m\n",
      "\u001b[0;31mValueError\u001b[0m: pie doesn't allow negative values"
     ]
    },
    {
     "data": {
      "image/png": "[encoded data removed]",
      "text/plain": [
       "<Figure size 432x288 with 1 Axes>"
      ]
     },
     "metadata": {
      "needs_background": "light"
     },
     "output_type": "display_data"
    }
   ],
   "source": [
    "fig = plt.figure()\n",
    "\n",
    "DFrameArray[2].A2.groupby(DFrameArray[2].ID).sum().plot(kind='pie',cmap='viridis')\n",
    "plt.axis('equal')\n",
    "plt.ylabel('')\n",
    "plt.savefig('Figures/A1Pie.pdf',dpi=100,bbox_inches='tight')"
   ]
  },
  {
   "cell_type": "code",
   "execution_count": null,
   "metadata": {},
   "outputs": [],
   "source": [
    "#fig = plt.figure()\n",
    "sns.lmplot(x='ID',y='A1',data=DFrameArray[2],fit_reg=False,hue='ID',legend=False,palette='viridis')\n",
    "#plt.savefig('Figures/A1seaborn.pdf',dpi=100,bbox_inches='tight')"
   ]
  },
  {
   "cell_type": "code",
   "execution_count": null,
   "metadata": {},
   "outputs": [],
   "source": [
    "#sns.set(style='ticks', color_codes=True)\n",
    "#g = sns.pairplot(DFrameArray[2], hue='ID', palette='Spectral')"
   ]
  },
  {
   "cell_type": "code",
   "execution_count": null,
   "metadata": {},
   "outputs": [],
   "source": [
    "print(dft['A2'])"
   ]
  },
  {
   "cell_type": "code",
   "execution_count": null,
   "metadata": {},
   "outputs": [],
   "source": [
    "# Write the whole dataframe in an excel file\n",
    "\n",
    "\n",
    "output = pd.ExcelWriter('DataBaseFisicaI.xls')\n",
    "dft.to_excel(output,'Hoja1')\n",
    "output.save()"
   ]
  },
  {
   "cell_type": "code",
   "execution_count": null,
   "metadata": {},
   "outputs": [],
   "source": []
  }
 ],
 "metadata": {
  "kernelspec": {
   "display_name": "Python 3",
   "language": "python",
   "name": "python3"
  },
  "language_info": {
   "codemirror_mode": {
    "name": "ipython",
    "version": 2
   },
   "file_extension": ".py",
   "mimetype": "text/x-python",
   "name": "python",
   "nbconvert_exporter": "python",
   "pygments_lexer": "ipython2",
   "version": "2.7.16"
  }
 },
 "nbformat": 4,
 "nbformat_minor": 2
}
